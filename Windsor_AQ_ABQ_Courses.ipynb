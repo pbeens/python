{
  "nbformat": 4,
  "nbformat_minor": 0,
  "metadata": {
    "colab": {
      "name": "Windsor AQ/ABQ Courses.ipynb",
      "provenance": [],
      "collapsed_sections": [],
      "authorship_tag": "ABX9TyNoVW2q39r9JWBY5DmEUqbu",
      "include_colab_link": true
    },
    "kernelspec": {
      "name": "python3",
      "display_name": "Python 3"
    },
    "language_info": {
      "name": "python"
    }
  },
  "cells": [
    {
      "cell_type": "markdown",
      "metadata": {
        "id": "view-in-github",
        "colab_type": "text"
      },
      "source": [
        "<a href=\"https://colab.research.google.com/github/pbeens/python/blob/master/Windsor_AQ_ABQ_Courses.ipynb\" target=\"_parent\"><img src=\"https://colab.research.google.com/assets/colab-badge.svg\" alt=\"Open In Colab\"/></a>"
      ]
    },
    {
      "cell_type": "markdown",
      "metadata": {
        "id": "Xh3x3VvKJ7PL"
      },
      "source": [
        "Windsor posts all their AQs and ABQs in a PDF. Use !wget to load in the PDF from the document URL then set the PDFFILE variable accordingly.\n",
        "\n",
        "All links will get saved in courses.html.\n",
        "\n",
        "GitHub URL of this notebook: https://github.com/pbeens/python/blob/master/Windsor_AQ_ABQ_Courses.ipynb\n",
        "\n",
        "Colab URL of this notebook: https://colab.research.google.com/drive/1tnqUXtP34PWLAP9mc4q3BrLQetuCWYCS"
      ]
    },
    {
      "cell_type": "code",
      "metadata": {
        "id": "p2BmP9nuJisY"
      },
      "source": [
        "# pip install(s)\n",
        "pip install PyPDF2"
      ],
      "execution_count": null,
      "outputs": []
    },
    {
      "cell_type": "code",
      "metadata": {
        "id": "YpxdtdzFK1-s"
      },
      "source": [
        "# import(s)\n",
        "from bs4 import BeautifulSoup\n",
        "import urllib.request\n",
        "import PyPDF2"
      ],
      "execution_count": null,
      "outputs": []
    },
    {
      "cell_type": "code",
      "metadata": {
        "id": "wiGPAl89JI4S"
      },
      "source": [
        "# get the PDF. Change URL accordingly.\n",
        "!wget 'https://www.uwindsor.ca/education/sites/uwindsor.ca.education/files/fall_2021_aq_course_offering_list.pdf'"
      ],
      "execution_count": null,
      "outputs": []
    },
    {
      "cell_type": "code",
      "metadata": {
        "id": "TuakA84sIi8k"
      },
      "source": [
        "#!/usr/bin/python\n",
        "# -*- coding: utf-8 -*-\n",
        "# Credit to:\n",
        "# https://stackoverflow.com/questions/27744210/extract-hyperlinks-from-pdf-in-python\n",
        "# for the PDF links snippet.\n",
        "#\n",
        "# Change the PDFFile variable to the correct filename after you have run !wget above.\n",
        "\n",
        "PDFFile = open('/content/fall_2021_aq_course_offering_list.pdf', 'rb')\n",
        "\n",
        "PDF = PyPDF2.PdfFileReader(PDFFile)\n",
        "pages = PDF.getNumPages()\n",
        "key = '/Annots'\n",
        "uri = '/URI'\n",
        "ank = '/A'\n",
        "\n",
        "# grab all links in the PDF\n",
        "\n",
        "links = []\n",
        "for page in range(pages):\n",
        "    print 'Current Page: {}'.format(page)\n",
        "    pageSliced = PDF.getPage(page)\n",
        "    pageObject = pageSliced.getObject()\n",
        "    if key in pageObject.keys():\n",
        "        ann = pageObject[key]\n",
        "        for a in ann:\n",
        "            u = a.getObject()\n",
        "            if uri in u[ank].keys():\n",
        "                links.append(u[ank][uri])\n",
        "\n",
        "# create dict of courses\n",
        "\n",
        "courses = {}\n",
        "for link in links:\n",
        "    html_page = urllib.request.urlopen(link)\n",
        "    soup = BeautifulSoup(html_page, 'html.parser')\n",
        "    course_name = \\\n",
        "        soup.title.string[7:].replace(' | University of Windsor', '')\n",
        "    courses[course_name] = link  # add to dict\n",
        "    print course_name\n",
        "\n",
        "print 'Done.'\n"
      ],
      "execution_count": null,
      "outputs": []
    },
    {
      "cell_type": "code",
      "metadata": {
        "id": "_kepbCvbObnt"
      },
      "source": [
        "# create html file with desired course listings\n",
        "# change term variable accordingly\n",
        "\n",
        "term = 'Windsor - Fall 2021'\n",
        "file = './courses.html'\n",
        "\n",
        "with open(file, 'w') as f:\n",
        "    s = f'<HTML>\\n<HEAD>\\n\\t<TITLE>{term}</TITLE>\\n</HEAD>\\n<BODY>\\n'\n",
        "    f.write(f'{s}\\n')\n",
        "    f.write(f'<H1>{term}</H1>\\n')\n",
        "    for k, v in courses.items():\n",
        "        f.write(f'\\t<a href=\"{v}\">{k}</a><br>\\n')\n",
        "    s = '</BODY>\\n<HTML>'\n",
        "    f.write(s)\n",
        "f.close()\n",
        "print(f'{file} created.')"
      ],
      "execution_count": null,
      "outputs": []
    }
  ]
}