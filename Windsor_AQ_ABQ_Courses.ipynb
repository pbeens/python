{
  "nbformat": 4,
  "nbformat_minor": 0,
  "metadata": {
    "colab": {
      "name": "Windsor AQ/ABQ Courses.ipynb",
      "provenance": [],
      "authorship_tag": "ABX9TyNQfl9TV1jmaK6iMSHeAtEZ",
      "include_colab_link": true
    },
    "kernelspec": {
      "name": "python3",
      "display_name": "Python 3"
    },
    "language_info": {
      "name": "python"
    }
  },
  "cells": [
    {
      "cell_type": "markdown",
      "metadata": {
        "id": "view-in-github",
        "colab_type": "text"
      },
      "source": [
        "<a href=\"https://colab.research.google.com/github/pbeens/python/blob/master/Windsor_AQ_ABQ_Courses.ipynb\" target=\"_parent\"><img src=\"https://colab.research.google.com/assets/colab-badge.svg\" alt=\"Open In Colab\"/></a>"
      ]
    },
    {
      "cell_type": "markdown",
      "metadata": {
        "id": "Xh3x3VvKJ7PL"
      },
      "source": [
        "Windsor posts all their AQs and ABQs in a PDF. Use !wget to load in the PDF from the document URL then set the PDFFILE variable accordingly.\n",
        "\n",
        "All links will get saved in courses.html.\n",
        "\n",
        "GitHub URL: \n",
        "\n",
        "Colab URL: https://colab.research.google.com/drive/1tnqUXtP34PWLAP9mc4q3BrLQetuCWYCS"
      ]
    },
    {
      "cell_type": "code",
      "metadata": {
        "id": "p2BmP9nuJisY"
      },
      "source": [
        "pip install PyPDF2"
      ],
      "execution_count": null,
      "outputs": []
    },
    {
      "cell_type": "code",
      "metadata": {
        "id": "YpxdtdzFK1-s"
      },
      "source": [
        "# imports\n",
        "from bs4 import BeautifulSoup\n",
        "import urllib.request\n",
        "import PyPDF2"
      ],
      "execution_count": null,
      "outputs": []
    },
    {
      "cell_type": "code",
      "metadata": {
        "id": "wiGPAl89JI4S"
      },
      "source": [
        "!wget 'https://www.uwindsor.ca/education/sites/uwindsor.ca.education/files/fall_2021_aq_course_offering_list.pdf'"
      ],
      "execution_count": null,
      "outputs": []
    },
    {
      "cell_type": "code",
      "metadata": {
        "colab": {
          "base_uri": "https://localhost:8080/"
        },
        "id": "TuakA84sIi8k",
        "outputId": "0f3e77d8-db99-4ea9-f008-1d8e7a557726"
      },
      "source": [
        "# Credit to:\n",
        "# https://stackoverflow.com/questions/27744210/extract-hyperlinks-from-pdf-in-python \n",
        "# for this code.\n",
        "# \n",
        "# Change the PDFFile to the correct filename after you have run !wget above.\n",
        "\n",
        "PDFFile = open('/content/fall_2021_aq_course_offering_list.pdf','rb')\n",
        "\n",
        "PDF = PyPDF2.PdfFileReader(PDFFile)\n",
        "pages = PDF.getNumPages()\n",
        "key = '/Annots'\n",
        "uri = '/URI'\n",
        "ank = '/A'\n",
        "\n",
        "links = []\n",
        "\n",
        "for page in range(pages):\n",
        "    print(\"Current Page: {}\".format(page))\n",
        "    pageSliced = PDF.getPage(page)\n",
        "    pageObject = pageSliced.getObject()\n",
        "    if key in pageObject.keys():\n",
        "        ann = pageObject[key]\n",
        "        for a in ann:\n",
        "            u = a.getObject()\n",
        "            if uri in u[ank].keys():\n",
        "                links.append(u[ank][uri])\n",
        "\n",
        "courses = {}\n",
        "for link in links:\n",
        "  html_page = urllib.request.urlopen(link)\n",
        "  soup = BeautifulSoup(html_page, \"html.parser\") \n",
        "  course_name = soup.title.string[7:] \\\n",
        "    .replace(' | University of Windsor', '')\n",
        "  courses[course_name] = link\n",
        "  print(course_name)"
      ],
      "execution_count": null,
      "outputs": [
        {
          "output_type": "stream",
          "text": [
            "Current Page: 0\n",
            "ABQ Communications Technology, Grades 9 and 10\n",
            "ABQ Communications Technology, Grades 11 and 12\n",
            "ABQ Dramatic Arts, Intermediate Division\n",
            "ABQ English, Intermediate Division\n",
            "ABQ English, Senior Division\n",
            "ABQ Green Industries, Grades 9 and 10\n",
            "ABQ Green Industries, Grades 11 and 12\n",
            "ABQ Geography, Senior Division\n",
            "ABQ History, Senior Division\n",
            "ABQ Junior Division\n",
            "ABQ Primary Division\n",
            "ABQ Science - Biology, Senior Division\n",
            "ABQ Social Sciences - General, Senior Division\n",
            "ABQ Technological Design, Grades 9 and 10\n",
            "ABQ Technological Design, Grades 11 and 12\n",
            "ABQ Visual Arts, Senior Division\n",
            "AQ Co-Operative Education, Part 1\n",
            "AQ Co-Operative Education, Part 2\n",
            "AQ Co-Operative Education, Specialist\n",
            "AQ Dramatic Arts, Part 2\n",
            "AQ Dramatic Arts, Specialist\n",
            "AQ Honour Specialist, English\n",
            "AQ Honour Specialist, History\n",
            "AQ Kindergarten, Part 1\n",
            "AQ Kindergarten, Part 2\n",
            "AQ Kindergarten, Specialist\n",
            "AQ Mathematics, Primary and Junior, Part 2\n",
            "AQ Mathematics, Primary and Junior, Specialist\n",
            "AQ Music – Instrumental (Strings) Part 1\n",
            "AQ Music – Instrumental (Strings) Part 2\n",
            "AQ Music - Instrumental, Part 1\n",
            "AQ Music - Instrumental, Part 2\n",
            "AQ Honour Specialist, Social Sciences\n",
            "AQ Special Education, Part 1\n",
            "AQ Special Education, Part 2\n",
            "AQ Special Education, Specialist\n",
            "AQ Teaching English Language Learners, Part 1\n",
            "AQ Teaching English Language Learners, Part 2\n",
            "AQ Visual Arts, Part 1\n",
            "AQ Visual Arts, Part 2\n",
            "AQ Visual Arts Specialist\n",
            "rincipal's Qualification Program, Part 1\n"
          ],
          "name": "stdout"
        }
      ]
    },
    {
      "cell_type": "code",
      "metadata": {
        "colab": {
          "base_uri": "https://localhost:8080/"
        },
        "id": "g_NdxeW4JLEc",
        "outputId": "7a512286-abb5-4318-f0a6-d117d3513b03"
      },
      "source": [
        "for (k, v) in courses.items():\n",
        "  print(f'{k}: {v}')"
      ],
      "execution_count": null,
      "outputs": [
        {
          "output_type": "stream",
          "text": [
            "ABQ Communications Technology, Grades 9 and 10: https://register.continue.uwindsor.ca/search/publicCourseSearchDetails.do?method=load&courseId=52049&selectedProgramAreaId=20056&selectedProgramStreamId=\n",
            "ABQ Communications Technology, Grades 11 and 12: https://register.continue.uwindsor.ca/search/publicCourseSearchDetails.do?method=load&courseId=52047&selectedProgramAreaId=20056&selectedProgramStreamId=\n",
            "ABQ Dramatic Arts, Intermediate Division: https://register.continue.uwindsor.ca/search/publicCourseSearchDetails.do?method=load&courseId=20509&selectedProgramAreaId=20056&selectedProgramStreamId=\n",
            "ABQ English, Intermediate Division: https://register.continue.uwindsor.ca/search/publicCourseSearchDetails.do?method=load&courseId=52651&selectedProgramAreaId=20056&selectedProgramStreamId=\n",
            "ABQ English, Senior Division: https://register.continue.uwindsor.ca/search/publicCourseSearchDetails.do?method=load&courseId=52653&selectedProgramAreaId=20056&selectedProgramStreamId=\n",
            "ABQ Green Industries, Grades 9 and 10: https://register.continue.uwindsor.ca/search/publicCourseSearchDetails.do?method=load&courseId=52663&selectedProgramAreaId=20056&selectedProgramStreamId=\n",
            "ABQ Green Industries, Grades 11 and 12: https://register.continue.uwindsor.ca/search/publicCourseSearchDetails.do?method=load&courseId=52661&selectedProgramAreaId=20056&selectedProgramStreamId=\n",
            "ABQ Geography, Senior Division: https://register.continue.uwindsor.ca/search/publicCourseSearchDetails.do?method=load&courseId=52659&selectedProgramAreaId=20056&selectedProgramStreamId=\n",
            "ABQ History, Senior Division: https://register.continue.uwindsor.ca/search/publicCourseSearchDetails.do?method=load&courseId=52667&selectedProgramAreaId=20056&selectedProgramStreamId=\n",
            "ABQ Junior Division: https://register.continue.uwindsor.ca/search/publicCourseSearchDetails.do?method=load&courseId=52669&selectedProgramAreaId=20056&selectedProgramStreamId=\n",
            "ABQ Primary Division: https://register.continue.uwindsor.ca/search/publicCourseSearchDetails.do?method=load&courseId=52677&selectedProgramAreaId=20056&selectedProgramStreamId=\n",
            "ABQ Science - Biology, Senior Division: https://register.continue.uwindsor.ca/search/publicCourseSearchDetails.do?method=load&courseId=52681&selectedProgramAreaId=20056&selectedProgramStreamId=\n",
            "ABQ Social Sciences - General, Senior Division: https://register.continue.uwindsor.ca/search/publicCourseSearchDetails.do?method=load&courseId=52683&selectedProgramAreaId=20056&selectedProgramStreamId=\n",
            "ABQ Technological Design, Grades 9 and 10: https://register.continue.uwindsor.ca/search/publicCourseSearchDetails.do?method=load&courseId=52687&selectedProgramAreaId=20056&selectedProgramStreamId=\n",
            "ABQ Technological Design, Grades 11 and 12: https://register.continue.uwindsor.ca/search/publicCourseSearchDetails.do?method=load&courseId=52685&selectedProgramAreaId=20056&selectedProgramStreamId=\n",
            "ABQ Visual Arts, Senior Division: https://register.continue.uwindsor.ca/search/publicCourseSearchDetails.do?method=load&courseId=52689&selectedProgramAreaId=20056&selectedProgramStreamId=\n",
            "AQ Co-Operative Education, Part 1: https://register.continue.uwindsor.ca/search/publicCourseSearchDetails.do?method=load&courseId=52693&selectedProgramAreaId=20056&selectedProgramStreamId=\n",
            "AQ Co-Operative Education, Part 2: https://register.continue.uwindsor.ca/search/publicCourseSearchDetails.do?method=load&courseId=52695&selectedProgramAreaId=20056&selectedProgramStreamId=\n",
            "AQ Co-Operative Education, Specialist: https://register.continue.uwindsor.ca/search/publicCourseSearchDetails.do?method=load&courseId=52697&selectedProgramAreaId=20056&selectedProgramStreamId=\n",
            "AQ Dramatic Arts, Part 2: https://register.continue.uwindsor.ca/search/publicCourseSearchDetails.do?method=load&courseId=52705&selectedProgramAreaId=20056&selectedProgramStreamId=\n",
            "AQ Dramatic Arts, Specialist: https://register.continue.uwindsor.ca/search/publicCourseSearchDetails.do?method=load&courseId=52707&selectedProgramAreaId=20056&selectedProgramStreamId=\n",
            "AQ Honour Specialist, English: https://register.continue.uwindsor.ca/search/publicCourseSearchDetails.do?method=load&courseId=52731&selectedProgramAreaId=20056&selectedProgramStreamId=\n",
            "AQ Honour Specialist, History: https://register.continue.uwindsor.ca/search/publicCourseSearchDetails.do?method=load&courseId=52735&selectedProgramAreaId=20056&selectedProgramStreamId=\n",
            "AQ Kindergarten, Part 1: https://register.continue.uwindsor.ca/search/publicCourseSearchDetails.do?method=load&courseId=52753&selectedProgramAreaId=20056&selectedProgramStreamId=\n",
            "AQ Kindergarten, Part 2: https://register.continue.uwindsor.ca/search/publicCourseSearchDetails.do?method=load&courseId=52755&selectedProgramAreaId=20056&selectedProgramStreamId=\n",
            "AQ Kindergarten, Specialist: https://register.continue.uwindsor.ca/search/publicCourseSearchDetails.do?method=load&courseId=52757&selectedProgramAreaId=20056&selectedProgramStreamId=\n",
            "AQ Mathematics, Primary and Junior, Part 2: https://register.continue.uwindsor.ca/search/publicCourseSearchDetails.do?method=load&courseId=52765&selectedProgramAreaId=20056&selectedProgramStreamId=\n",
            "AQ Mathematics, Primary and Junior, Specialist: https://register.continue.uwindsor.ca/search/publicCourseSearchDetails.do?method=load&courseId=52761&selectedProgramAreaId=20056&selectedProgramStreamId=\n",
            "AQ Music – Instrumental (Strings) Part 1: https://register.continue.uwindsor.ca/search/publicCourseSearchDetails.do?method=load&courseId=296984&selectedProgramAreaId=20056&selectedProgramStreamId=\n",
            "AQ Music – Instrumental (Strings) Part 2: https://register.continue.uwindsor.ca/search/publicCourseSearchDetails.do?method=load&courseId=1884964&selectedProgramAreaId=20056&selectedProgramStreamId=\n",
            "AQ Music - Instrumental, Part 1: https://register.continue.uwindsor.ca/search/publicCourseSearchDetails.do?method=load&courseId=52769&selectedProgramAreaId=20056&selectedProgramStreamId=\n",
            "AQ Music - Instrumental, Part 2: https://register.continue.uwindsor.ca/search/publicCourseSearchDetails.do?method=load&courseId=52771&selectedProgramAreaId=20056&selectedProgramStreamId=\n",
            "AQ Honour Specialist, Social Sciences: https://register.continue.uwindsor.ca/search/publicCourseSearchDetails.do?method=load&courseId=52741&selectedProgramAreaId=20056&selectedProgramStreamId=\n",
            "AQ Special Education, Part 1: https://register.continue.uwindsor.ca/search/publicCourseSearchDetails.do?method=load&courseId=20523&selectedProgramAreaId=20056&selectedProgramStreamId=\n",
            "AQ Special Education, Part 2: https://register.continue.uwindsor.ca/search/publicCourseSearchDetails.do?method=load&courseId=20535&selectedProgramAreaId=20056&selectedProgramStreamId=\n",
            "AQ Special Education, Specialist: https://register.continue.uwindsor.ca/search/publicCourseSearchDetails.do?method=load&courseId=52793&selectedProgramAreaId=20056&selectedProgramStreamId=\n",
            "AQ Teaching English Language Learners, Part 1: https://register.continue.uwindsor.ca/search/publicCourseSearchDetails.do?method=load&courseId=52803&selectedProgramAreaId=20056&selectedProgramStreamId=\n",
            "AQ Teaching English Language Learners, Part 2: https://register.continue.uwindsor.ca/search/publicCourseSearchDetails.do?method=load&courseId=52805&selectedProgramAreaId=20056&selectedProgramStreamId=\n",
            "AQ Visual Arts, Part 1: https://register.continue.uwindsor.ca/search/publicCourseSearchDetails.do?method=load&courseId=52813&selectedProgramAreaId=20056&selectedProgramStreamId=\n",
            "AQ Visual Arts, Part 2: https://register.continue.uwindsor.ca/search/publicCourseSearchDetails.do?method=load&courseId=52815&selectedProgramAreaId=20056&selectedProgramStreamId=\n",
            "AQ Visual Arts Specialist: https://register.continue.uwindsor.ca/search/publicCourseSearchDetails.do?method=load&courseId=52811&selectedProgramAreaId=20056&selectedProgramStreamId=\n",
            "rincipal's Qualification Program, Part 1: https://register.continue.uwindsor.ca/search/publicCourseSearchDetails.do?method=load&courseId=52825&selectedProgramAreaId=20056&selectedProgramStreamId=\n"
          ],
          "name": "stdout"
        }
      ]
    },
    {
      "cell_type": "code",
      "metadata": {
        "colab": {
          "base_uri": "https://localhost:8080/"
        },
        "id": "_kepbCvbObnt",
        "outputId": "e41cb713-2d10-49c4-85be-dcfb3d6fef3a"
      },
      "source": [
        "# create html file with desired course listings\n",
        "# change term variable accordingly\n",
        "\n",
        "term = 'Windsor - Fall 2021'\n",
        "file = './courses.html'\n",
        "\n",
        "with open(file, 'w') as f:\n",
        "  s = f'''<HTML>\\n<HEAD>\\n\\t<TITLE>{term}</TITLE>\\n</HEAD>\\n<BODY>\\n'''\n",
        "  f.write(f'{s}\\n')\n",
        "  f.write(f'<H1>{term}</H1>\\n')\n",
        "  for k, v in courses.items():\n",
        "    f.write(f'\\t<a href=\"{v}\">{k}</a><br>\\n')\n",
        "  s = '''</BODY>\\n<HTML>'''\n",
        "  f.write(s)\n",
        "f.close()\n",
        "print(f'{file} created.')"
      ],
      "execution_count": null,
      "outputs": [
        {
          "output_type": "stream",
          "text": [
            "./courses.html created.\n"
          ],
          "name": "stdout"
        }
      ]
    },
    {
      "cell_type": "code",
      "metadata": {
        "id": "lSvrDNhyP2Kg"
      },
      "source": [
        ""
      ],
      "execution_count": null,
      "outputs": []
    }
  ]
}