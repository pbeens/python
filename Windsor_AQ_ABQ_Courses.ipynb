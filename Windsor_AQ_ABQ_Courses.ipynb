{
  "nbformat": 4,
  "nbformat_minor": 0,
  "metadata": {
    "colab": {
      "name": "Windsor AQ/ABQ Courses.ipynb",
      "provenance": [],
      "collapsed_sections": [],
      "authorship_tag": "ABX9TyPGX1ulaOz8O7qULG7laHQ4",
      "include_colab_link": true
    },
    "kernelspec": {
      "name": "python3",
      "display_name": "Python 3"
    },
    "language_info": {
      "name": "python"
    }
  },
  "cells": [
    {
      "cell_type": "markdown",
      "metadata": {
        "id": "view-in-github",
        "colab_type": "text"
      },
      "source": [
        "<a href=\"https://colab.research.google.com/github/pbeens/python/blob/master/Windsor_AQ_ABQ_Courses.ipynb\" target=\"_parent\"><img src=\"https://colab.research.google.com/assets/colab-badge.svg\" alt=\"Open In Colab\"/></a>"
      ]
    },
    {
      "cell_type": "markdown",
      "metadata": {
        "id": "Xh3x3VvKJ7PL"
      },
      "source": [
        "Windsor posts all their AQs and ABQs in a PDF. Use !wget to load in the PDF from the document URL then set the PDFFILE variable accordingly.\n",
        "\n",
        "All links will get saved in courses.html.\n",
        "\n",
        "GitHub URL of this notebook: https://github.com/pbeens/python/blob/master/Windsor_AQ_ABQ_Courses.ipynb\n",
        "\n",
        "Colab URL of this notebook: https://colab.research.google.com/drive/1tnqUXtP34PWLAP9mc4q3BrLQetuCWYCS"
      ]
    },
    {
      "cell_type": "code",
      "metadata": {
        "id": "p2BmP9nuJisY",
        "colab": {
          "base_uri": "https://localhost:8080/"
        },
        "outputId": "d2760e29-4f5a-4632-e5a1-453501be8cd6"
      },
      "source": [
        "# pip install(s)\n",
        "!pip install PyPDF2"
      ],
      "execution_count": 2,
      "outputs": [
        {
          "output_type": "stream",
          "name": "stdout",
          "text": [
            "Requirement already satisfied: PyPDF2 in /usr/local/lib/python3.7/dist-packages (1.26.0)\n"
          ]
        }
      ]
    },
    {
      "cell_type": "code",
      "metadata": {
        "id": "YpxdtdzFK1-s"
      },
      "source": [
        "# import(s)\n",
        "from bs4 import BeautifulSoup\n",
        "import urllib.request\n",
        "import PyPDF2"
      ],
      "execution_count": 3,
      "outputs": []
    },
    {
      "cell_type": "code",
      "metadata": {
        "id": "wiGPAl89JI4S",
        "colab": {
          "base_uri": "https://localhost:8080/"
        },
        "outputId": "7815710d-0548-4d65-fe4a-2d9e32cc391e"
      },
      "source": [
        "# get the PDF. Change URL accordingly.\n",
        "!wget 'https://www.uwindsor.ca/education/sites/uwindsor.ca.education/files/winter_2022_aq_course_offering_list_1.pdf'"
      ],
      "execution_count": 4,
      "outputs": [
        {
          "output_type": "stream",
          "name": "stdout",
          "text": [
            "--2022-01-01 19:25:37--  https://www.uwindsor.ca/education/sites/uwindsor.ca.education/files/winter_2022_aq_course_offering_list_1.pdf\n",
            "Resolving www.uwindsor.ca (www.uwindsor.ca)... 137.207.71.197\n",
            "Connecting to www.uwindsor.ca (www.uwindsor.ca)|137.207.71.197|:443... connected.\n",
            "HTTP request sent, awaiting response... 200 OK\n",
            "Length: 66332 (65K) [application/pdf]\n",
            "Saving to: ‘winter_2022_aq_course_offering_list_1.pdf.2’\n",
            "\n",
            "winter_2022_aq_cour 100%[===================>]  64.78K   122KB/s    in 0.5s    \n",
            "\n",
            "2022-01-01 19:25:38 (122 KB/s) - ‘winter_2022_aq_course_offering_list_1.pdf.2’ saved [66332/66332]\n",
            "\n"
          ]
        }
      ]
    },
    {
      "cell_type": "code",
      "metadata": {
        "id": "TuakA84sIi8k",
        "colab": {
          "base_uri": "https://localhost:8080/"
        },
        "outputId": "ced1bc86-6021-4981-b6b5-c13ef377d2fb"
      },
      "source": [
        "#!/usr/bin/python\n",
        "# -*- coding: utf-8 -*-\n",
        "# Credit to:\n",
        "# https://stackoverflow.com/questions/27744210/extract-hyperlinks-from-pdf-in-python\n",
        "# for the PDF links snippet.\n",
        "#\n",
        "# Change the PDFFile variable to the correct filename after you have run !wget above.\n",
        "\n",
        "PDFFile = open('/content/winter_2022_aq_course_offering_list_1.pdf', 'rb')\n",
        "\n",
        "PDF = PyPDF2.PdfFileReader(PDFFile)\n",
        "pages = PDF.getNumPages()\n",
        "key = '/Annots'\n",
        "uri = '/URI'\n",
        "ank = '/A'\n",
        "\n",
        "# grab all links in the PDF\n",
        "\n",
        "links = []\n",
        "for page in range(pages):\n",
        "    print('Current Page: {}'.format(page))\n",
        "    pageSliced = PDF.getPage(page)\n",
        "    pageObject = pageSliced.getObject()\n",
        "    if key in pageObject.keys():\n",
        "        ann = pageObject[key]\n",
        "        for a in ann:\n",
        "            u = a.getObject()\n",
        "            if uri in u[ank].keys():\n",
        "                links.append(u[ank][uri])\n",
        "\n",
        "# create dict of courses\n",
        "courses = {}\n",
        "for link in links:\n",
        "    if link.find('@') > 0:\n",
        "        continue\n",
        "    print(link)\n",
        "    html_page = urllib.request.urlopen(link)\n",
        "    soup = BeautifulSoup(html_page, 'html.parser')\n",
        "    course_name = soup.title.string[7:].replace(' | University of Windsor', '')\n",
        "    courses[course_name] = link  # add to dict\n",
        "    print(course_name)\n",
        "\n",
        "print('Done.')\n"
      ],
      "execution_count": 12,
      "outputs": [
        {
          "output_type": "stream",
          "name": "stdout",
          "text": [
            "Current Page: 0\n",
            "https://register.continue.uwindsor.ca/\n",
            "ms \n",
            "https://register.continue.uwindsor.ca/search/publicCourseSearchDetails.do?method=load&courseId=52045&selectedProgramAreaId=20056&selectedProgramStreamId=\n",
            "ABQ Business Studies-General, Senior Division\n",
            "https://register.continue.uwindsor.ca/search/publicCourseSearchDetails.do?method=load&courseId=52745&selectedProgramAreaId=20056&selectedProgramStreamId=\n",
            "AQ Honour Specialist, Business Studies\n",
            "https://register.continue.uwindsor.ca/search/publicCourseSearchDetails.do?method=load&courseId=52655&selectedProgramAreaId=20056&selectedProgramStreamId=\n",
            "ABQ First Nations, Métis and Inuit Studies, Intermediate Division\n",
            "https://register.continue.uwindsor.ca/search/publicCourseSearchDetails.do?method=load&courseId=52669&selectedProgramAreaId=20056&selectedProgramStreamId=\n",
            "ABQ Junior Division\n",
            "https://register.continue.uwindsor.ca/search/publicCourseSearchDetails.do?method=load&courseId=52677&selectedProgramAreaId=20056&selectedProgramStreamId=\n",
            "ABQ Primary Division\n",
            "https://register.continue.uwindsor.ca/search/publicCourseSearchDetails.do?method=load&courseId=52657&selectedProgramAreaId=20056&selectedProgramStreamId=\n",
            "ABQ French as a Second Language, Senior Division\n",
            "https://register.continue.uwindsor.ca/search/publicCourseSearchDetails.do?method=load&courseId=52715&selectedProgramAreaId=20056&selectedProgramStreamId=\n",
            "AQ French as a Second Language, Part 1\n",
            "https://register.continue.uwindsor.ca/search/publicCourseSearchDetails.do?method=load&courseId=52717&selectedProgramAreaId=20056&selectedProgramStreamId=\n",
            "AQ French as a Second Language, Part 2\n",
            "https://register.continue.uwindsor.ca/search/publicCourseSearchDetails.do?method=load&courseId=52719&selectedProgramAreaId=20056&selectedProgramStreamId=\n",
            "AQ French as a Second Language, Specialist\n",
            "https://register.continue.uwindsor.ca/search/publicCourseSearchDetails.do?method=load&courseId=52737&selectedProgramAreaId=20056&selectedProgramStreamId=\n",
            "AQ Honour Specialist, Technological Education\n",
            "https://register.continue.uwindsor.ca/search/publicCourseSearchDetails.do?method=load&courseId=52747&selectedProgramAreaId=20056&selectedProgramStreamId=\n",
            "AQ Integration of Information and Computer Technology in Instruction, Part 1\n",
            "https://register.continue.uwindsor.ca/search/publicCourseSearchDetails.do?method=load&courseId=52749&selectedProgramAreaId=20056&selectedProgramStreamId=\n",
            "AQ Integration of Information and Computer Technology in Instruction, Part 2\n",
            "https://register.continue.uwindsor.ca/search/publicCourseSearchDetails.do?method=load&courseId=52751&selectedProgramAreaId=20056&selectedProgramStreamId=\n",
            "AQ Integration of Information and Computer Technology in Instruction, Specialist\n",
            "https://register.continue.uwindsor.ca/search/publicCourseSearchDetails.do?method=load&courseId=52751&selectedProgramAreaId=20056&selectedProgramStreamId=\n",
            "AQ Integration of Information and Computer Technology in Instruction, Specialist\n",
            "https://register.continue.uwindsor.ca/search/publicCourseSearchDetails.do?method=load&courseId=52753&selectedProgramAreaId=20056&selectedProgramStreamId=\n",
            "AQ Kindergarten, Part 1\n",
            "https://register.continue.uwindsor.ca/search/publicCourseSearchDetails.do?method=load&courseId=52755&selectedProgramAreaId=20056&selectedProgramStreamId=\n",
            "AQ Kindergarten, Part 2\n",
            "https://register.continue.uwindsor.ca/search/publicCourseSearchDetails.do?method=load&courseId=52757&selectedProgramAreaId=20056&selectedProgramStreamId=\n",
            "AQ Kindergarten, Specialist\n",
            "https://register.continue.uwindsor.ca/search/publicCourseSearchDetails.do?method=load&courseId=52671&selectedProgramAreaId=20056&selectedProgramStreamId=\n",
            "ABQ Mathematics, Intermediate Division\n",
            "https://register.continue.uwindsor.ca/search/publicCourseSearchDetails.do?method=load&courseId=52673&selectedProgramAreaId=20056&selectedProgramStreamId=\n",
            "ABQ Mathematics, Senior Division\n",
            "https://register.continue.uwindsor.ca/search/publicCourseSearchDetails.do?method=load&courseId=52759&selectedProgramAreaId=20056&selectedProgramStreamId=\n",
            "AQ Mathematics, Grades 7 and 8\n",
            "https://register.continue.uwindsor.ca/search/publicCourseSearchDetails.do?method=load&courseId=52763&selectedProgramAreaId=20056&selectedProgramStreamId=\n",
            "AQ Mathematics, Primary and Junior, Part 1\n",
            "https://register.continue.uwindsor.ca/search/publicCourseSearchDetails.do?method=load&courseId=52765&selectedProgramAreaId=20056&selectedProgramStreamId=\n",
            "AQ Mathematics, Primary and Junior, Part 2\n",
            "https://register.continue.uwindsor.ca/search/publicCourseSearchDetails.do?method=load&courseId=52761&selectedProgramAreaId=20056&selectedProgramStreamId=\n",
            "AQ Mathematics, Primary and Junior, Specialist\n",
            "https://register.continue.uwindsor.ca/search/publicCourseSearchDetails.do?method=load&courseId=296984&selectedProgramAreaId=20056&selectedProgramStreamId=\n",
            "AQ Music – Instrumental (Strings) Part 1\n",
            "https://register.continue.uwindsor.ca/search/publicCourseSearchDetails.do?method=load&courseId=1884964&selectedProgramAreaId=20056&selectedProgramStreamId=\n",
            "AQ Music – Instrumental (Strings) Part 2\n",
            "https://register.continue.uwindsor.ca/search/publicCourseSearchDetails.do?method=load&courseId=2004262&selectedProgramAreaId=20056&selectedProgramStreamId=\n",
            "AQ Music – Instrumental (Strings) Specialist\n",
            "https://register.continue.uwindsor.ca/search/publicCourseSearchDetails.do?method=load&courseId=52773&selectedProgramAreaId=20056&selectedProgramStreamId=\n",
            "AQ Music - Instrumental, Specialist\n",
            "https://register.continue.uwindsor.ca/search/publicCourseSearchDetails.do?method=load&courseId=52739&selectedProgramAreaId=20056&selectedProgramStreamId=\n",
            "AQ Honour Specialist, Music\n",
            "https://register.continue.uwindsor.ca/search/publicCourseSearchDetails.do?method=load&courseId=20523&selectedProgramAreaId=20056&selectedProgramStreamId=\n",
            "AQ Special Education, Part 1\n",
            "https://register.continue.uwindsor.ca/search/publicCourseSearchDetails.do?method=load&courseId=20535&selectedProgramAreaId=20056&selectedProgramStreamId=\n",
            "AQ Special Education, Part 2\n",
            "https://register.continue.uwindsor.ca/search/publicCourseSearchDetails.do?method=load&courseId=52793&selectedProgramAreaId=20056&selectedProgramStreamId=\n",
            "AQ Special Education, Specialist\n",
            "https://register.continue.uwindsor.ca/search/publicCourseSearchDetails.do?method=load&courseId=52803&selectedProgramAreaId=20056&selectedProgramStreamId=\n",
            "AQ Teaching English Language Learners, Part 1\n",
            "https://register.continue.uwindsor.ca/search/publicCourseSearchDetails.do?method=load&courseId=52805&selectedProgramAreaId=20056&selectedProgramStreamId=\n",
            "AQ Teaching English Language Learners, Part 2\n",
            "https://register.continue.uwindsor.ca/search/publicCourseSearchDetails.do?method=load&courseId=52807&selectedProgramAreaId=20056&selectedProgramStreamId=\n",
            "AQ Teaching English Language Learners, Specialist\n",
            "https://register.continue.uwindsor.ca/search/publicCourseSearchDetails.do?method=load&courseId=52801&selectedProgramAreaId=20056&selectedProgramStreamId=\n",
            "AQ Teaching and Learning through e-Learning\n",
            "https://register.continue.uwindsor.ca/search/publicCourseSearchDetails.do?method=load&courseId=52839&selectedProgramAreaId=20056&selectedProgramStreamId=\n",
            "AQ Teaching LGBTQ Students\n",
            "https://register.continue.uwindsor.ca/search/publicCourseSearchDetails.do?method=load&courseId=52813&selectedProgramAreaId=20056&selectedProgramStreamId=\n",
            "AQ Visual Arts, Part 1\n",
            "https://register.continue.uwindsor.ca/search/publicCourseSearchDetails.do?method=load&courseId=52815&selectedProgramAreaId=20056&selectedProgramStreamId=\n",
            "AQ Visual Arts, Part 2\n",
            "https://register.continue.uwindsor.ca/search/publicCourseSearchDetails.do?method=load&courseId=52811&selectedProgramAreaId=20056&selectedProgramStreamId=\n",
            "AQ Visual Arts Specialist\n",
            "https://register.continue.uwindsor.ca/search/publicCourseSearchDetails.do?method=load&courseId=52827&selectedProgramAreaId=20056&selectedProgramStreamId=\n",
            "rincipal's Qualification Program, Part 2\n",
            "https://register.continue.uwindsor.ca/\n",
            "ms \n",
            "Done.\n"
          ]
        }
      ]
    },
    {
      "cell_type": "code",
      "metadata": {
        "id": "_kepbCvbObnt",
        "colab": {
          "base_uri": "https://localhost:8080/"
        },
        "outputId": "7f7786a6-9e8e-4f77-d28f-e4215971c7f2"
      },
      "source": [
        "# create html file with desired course listings\n",
        "# change term variable accordingly\n",
        "\n",
        "term = 'Windsor - Winter 2022'\n",
        "file = f'./{term}.html'\n",
        "\n",
        "with open(file, 'w') as f:\n",
        "    s = f'<HTML>\\n<HEAD>\\n\\t<TITLE>{term}</TITLE>\\n</HEAD>\\n<BODY>\\n'\n",
        "    f.write(f'{s}\\n')\n",
        "    f.write(f'<H1>{term}</H1>\\n')\n",
        "    for k, v in courses.items():\n",
        "        f.write(f'\\t<a href=\"{v}\">{k}</a><br>\\n')\n",
        "    s = '</BODY>\\n<HTML>'\n",
        "    f.write(s)\n",
        "f.close()\n",
        "print(f'{file} created.')"
      ],
      "execution_count": 13,
      "outputs": [
        {
          "output_type": "stream",
          "name": "stdout",
          "text": [
            "./Windsor - Winter 2022.html created.\n"
          ]
        }
      ]
    }
  ]
}