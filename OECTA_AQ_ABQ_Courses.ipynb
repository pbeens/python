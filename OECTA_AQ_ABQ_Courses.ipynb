{
  "nbformat": 4,
  "nbformat_minor": 0,
  "metadata": {
    "colab": {
      "name": "OECTA AQ/ABQ Courses.ipynb",
      "provenance": [],
      "collapsed_sections": [],
      "authorship_tag": "ABX9TyMMPZD576Pn/ZRMT0YcrRp0",
      "include_colab_link": true
    },
    "kernelspec": {
      "name": "python3",
      "display_name": "Python 3"
    },
    "language_info": {
      "name": "python"
    }
  },
  "cells": [
    {
      "cell_type": "markdown",
      "metadata": {
        "id": "view-in-github",
        "colab_type": "text"
      },
      "source": [
        "<a href=\"https://colab.research.google.com/github/pbeens/python/blob/master/OECTA_AQ_ABQ_Courses.ipynb\" target=\"_parent\"><img src=\"https://colab.research.google.com/assets/colab-badge.svg\" alt=\"Open In Colab\"/></a>"
      ]
    },
    {
      "cell_type": "markdown",
      "metadata": {
        "id": "nevL3VMGxkMV"
      },
      "source": [
        "This program retrieves all the AQ and ABQ courses from the OECTA website and stores them in an HTML file."
      ]
    },
    {
      "cell_type": "code",
      "metadata": {
        "id": "pemQoKk2xlqy"
      },
      "source": [
        "# imports\n",
        "from bs4 import BeautifulSoup\n",
        "import urllib.request"
      ],
      "execution_count": null,
      "outputs": []
    },
    {
      "cell_type": "code",
      "metadata": {
        "id": "TGgV9z_Fxn6o"
      },
      "source": [
        "# global variable(s)\n",
        "url = 'https://www.catholicteachers.ca/For-Your-Career/AQ-Courses'\n",
        "term = '2021 Fall'"
      ],
      "execution_count": null,
      "outputs": []
    },
    {
      "cell_type": "code",
      "metadata": {
        "id": "2hLQyNdFyLoh"
      },
      "source": [
        "# grab each URL\n",
        "subject_pages = []\n",
        "subject_urls_dict = {}\n",
        "\n",
        "html_page = urllib.request.urlopen(url)\n",
        "soup = BeautifulSoup(html_page, \"html.parser\")\n",
        "\n",
        "# find each subject and link\n",
        "for link in soup.findAll('a', href=True):\n",
        "    if str(link).find('Course-Descriptions') > 0:\n",
        "        subject_pages.append('https://www.catholicteachers.ca' + link['href'])\n",
        "\n",
        "# process each subject page to find H1 (subject name)\n",
        "for link in subject_pages:\n",
        "\n",
        "    html_page = urllib.request.urlopen(link)\n",
        "    soup = BeautifulSoup(html_page, \"html.parser\")\n",
        "\n",
        "    subject = soup.find_all('h1')[1]\n",
        "\n",
        "    if not subject.text == 'Course Descriptions':\n",
        "        # add to dict\n",
        "        subject_urls_dict[subject.text] = link\n",
        "\n",
        "# check the subjects dictionary\n",
        "for (subject, url) in subject_urls_dict.items():\n",
        "    print(f'{subject}: {url}')\n",
        "\n",
        "print('Done.')"
      ],
      "execution_count": null,
      "outputs": []
    },
    {
      "cell_type": "code",
      "metadata": {
        "id": "pUm0v5xByn9k"
      },
      "source": [
        "# find each section (part 1, 2, etc) for each subject\n",
        "courses_with_sections_dict = {}\n",
        "\n",
        "for (subject, url) in subject_urls_dict.items():\n",
        "\n",
        "    html_page = urllib.request.urlopen(url)\n",
        "    soup = BeautifulSoup(html_page, \"html.parser\")\n",
        "    \n",
        "    sections = soup.find_all('h4')\n",
        "  \n",
        "    for section in sections:\n",
        "        if (subject.find('Autism') > 0) or (subject.find('Grades 7 and 8') > 0):\n",
        "            course_with_section = subject\n",
        "        elif section.text == 'Share this page:':\n",
        "            continue\n",
        "        elif section.text == 'Single Session':\n",
        "            course_with_section = subject\n",
        "        else: # part 1, part 2, specialist\n",
        "            course_with_section = subject + ' ' + section.text\n",
        "        # add to dict\n",
        "        courses_with_sections_dict[course_with_section] = url\n",
        "\n",
        "# check the courses dictionary\n",
        "for (k,v) in courses_with_sections_dict.items():\n",
        "    print(f'{k}: {v}')   "
      ],
      "execution_count": null,
      "outputs": []
    },
    {
      "cell_type": "code",
      "metadata": {
        "id": "qlWmSV1x7r5z"
      },
      "source": [
        "# create html file with course listings\n",
        "file = './courses.html'\n",
        "with open(file, 'w') as f:\n",
        "  s = f'<HTML>\\n<HEAD>\\n\\t<TITLE>{term}</TITLE>\\n</HEAD>\\n<BODY>\\n'\n",
        "  f.write(s)\n",
        "  for course, url in courses_with_sections_dict.items():\n",
        "    f.write(f'\\t<a href=\"{url}\">{course}</a><br>\\n')\n",
        "  s = '</BODY>\\n<HTML>'\n",
        "  f.write(s)\n",
        "f.close()\n",
        "print(f'{file} created.')"
      ],
      "execution_count": null,
      "outputs": []
    }
  ]
}