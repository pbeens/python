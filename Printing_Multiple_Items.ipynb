{
  "nbformat": 4,
  "nbformat_minor": 0,
  "metadata": {
    "colab": {
      "name": "Printing Multiple Items.ipynb",
      "provenance": [],
      "collapsed_sections": [],
      "toc_visible": true,
      "authorship_tag": "ABX9TyMrzV7RQzCsOFaQatf9P3cw",
      "include_colab_link": true
    },
    "kernelspec": {
      "name": "python3",
      "display_name": "Python 3"
    },
    "language_info": {
      "name": "python"
    }
  },
  "cells": [
    {
      "cell_type": "markdown",
      "metadata": {
        "id": "view-in-github",
        "colab_type": "text"
      },
      "source": [
        "<a href=\"https://colab.research.google.com/github/pbeens/python/blob/master/Printing_Multiple_Items.ipynb\" target=\"_parent\"><img src=\"https://colab.research.google.com/assets/colab-badge.svg\" alt=\"Open In Colab\"/></a>"
      ]
    },
    {
      "cell_type": "markdown",
      "metadata": {
        "id": "cL-ECKEWLqYR"
      },
      "source": [
        "# Overview"
      ]
    },
    {
      "cell_type": "markdown",
      "metadata": {
        "id": "zda7lUs-L04c"
      },
      "source": [
        "The short URL for this notebook on GitHub is https://github.com/pbeens/python/blob/master/Printing_Multiple_Items.ipynb.\n",
        "\n",
        "Open this notebook with the Open in Colab button, above.\n",
        "\n",
        "This notebook is not complete. It only shows string concatenation and still needs to have f-printing added.\n",
        "\n",
        "You can use the Table of Contents on the left-hand side to navigate to the different sections."
      ]
    },
    {
      "cell_type": "markdown",
      "metadata": {
        "id": "H4AFivW8C-YV"
      },
      "source": [
        "# String Concatentation"
      ]
    },
    {
      "cell_type": "markdown",
      "metadata": {
        "id": "4OmOELbPDRRo"
      },
      "source": [
        "Python lets us append items to each other when printing, as the example below shows. "
      ]
    },
    {
      "cell_type": "code",
      "metadata": {
        "id": "-tVkM_x-Dmsg"
      },
      "source": [
        "fname = 'John'\n",
        "lname = 'Doe'\n",
        "\n",
        "print(fname + lname)"
      ],
      "execution_count": null,
      "outputs": []
    },
    {
      "cell_type": "markdown",
      "metadata": {
        "id": "REmpnIKND4gH"
      },
      "source": [
        "Note that the items are appended without spaces, so if we want a space we have to add it manually:"
      ]
    },
    {
      "cell_type": "code",
      "metadata": {
        "id": "uyF88fbd2OLD"
      },
      "source": [
        "print(fname + ' ' + lname)"
      ],
      "execution_count": null,
      "outputs": []
    },
    {
      "cell_type": "markdown",
      "metadata": {
        "id": "VVdy6S3CHMF9"
      },
      "source": [
        "# Assignment: Inputting and Printing Your Full Name"
      ]
    },
    {
      "cell_type": "markdown",
      "metadata": {
        "id": "lUgKMJOtHQsY"
      },
      "source": [
        "Write a program which prompts for your first name then your last name and then prints them together on the same line. Use the variables `fname` and `lname` for your first and last names, respectively.\n",
        "\n",
        "The following \"stub\" includes comments to help you with the process. Note that the program runs in order, one command after another."
      ]
    },
    {
      "cell_type": "code",
      "metadata": {
        "id": "NuTCOn2TD-1E"
      },
      "source": [
        "# use an input() statement to prompt for and input your first name\n",
        "fname = \n",
        "# use an input() statement to prompt for and input your last name\n",
        "lname = \n",
        "# print your name on one line\n",
        "print()"
      ],
      "execution_count": null,
      "outputs": []
    },
    {
      "cell_type": "markdown",
      "metadata": {
        "id": "kqA072Tkf22S"
      },
      "source": [
        "# Live Demo\n",
        "\n",
        "https://codecollab.io/@pbeens/Variable%20Type%20Demo#"
      ]
    },
    {
      "cell_type": "markdown",
      "metadata": {
        "id": "ihyId5CBIsMK"
      },
      "source": [
        "# Next Steps"
      ]
    },
    {
      "cell_type": "markdown",
      "metadata": {
        "id": "RKjaqklPIw-W"
      },
      "source": [
        "Some ideas for next time:\n",
        "\n",
        "* Different editors, and why we're using Colab\n",
        "* More input and print assignments\n",
        "* Learning about the types of variables\n",
        "* Printing text and numbers on the same line\n",
        "* Printing with commas vs string concatenation\n",
        "* Coin flip, per https://www.youtube.com/watch?v=vagztg_0o3E\n",
        "\n",
        "Further down the road:\n",
        "\n",
        "* Looping (running segments of code over and over again\n",
        "* Lists\n",
        "* Turtle graphics"
      ]
    },
    {
      "cell_type": "markdown",
      "metadata": {
        "id": "ogXtxvBmEiyC"
      },
      "source": [
        "# Resources / Credits"
      ]
    },
    {
      "cell_type": "markdown",
      "metadata": {
        "id": "44CRcC8JEke0"
      },
      "source": [
        "TBD\n",
        "\n",
        "The original URL of this notebook is https://colab.research.google.com/drive/1tD2nXGdYq_QhDY0bKuCyi6ss1sHzKETH."
      ]
    }
  ]
}