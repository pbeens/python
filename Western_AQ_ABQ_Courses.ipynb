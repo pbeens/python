{
  "nbformat": 4,
  "nbformat_minor": 0,
  "metadata": {
    "colab": {
      "name": "Western AQ/ABQ Courses.ipynb",
      "provenance": [],
      "collapsed_sections": [],
      "authorship_tag": "ABX9TyOjoYAZvhPhp+YL9NBHQd0c",
      "include_colab_link": true
    },
    "kernelspec": {
      "name": "python3",
      "display_name": "Python 3"
    },
    "language_info": {
      "name": "python"
    }
  },
  "cells": [
    {
      "cell_type": "markdown",
      "metadata": {
        "id": "view-in-github",
        "colab_type": "text"
      },
      "source": [
        "<a href=\"https://colab.research.google.com/github/pbeens/python/blob/master/Western_AQ_ABQ_Courses.ipynb\" target=\"_parent\"><img src=\"https://colab.research.google.com/assets/colab-badge.svg\" alt=\"Open In Colab\"/></a>"
      ]
    },
    {
      "cell_type": "markdown",
      "metadata": {
        "id": "nevL3VMGxkMV"
      },
      "source": [
        "This program retrieves all the AQ and ABQ courses from the UWO website and stores them in an HTML file.\n",
        "\n",
        "GitHub URL: https://github.com/pbeens/python/blob/master/Western_AQ_ABQ_Courses.ipynb\n",
        "\n",
        "Colab URL: https://colab.research.google.com/drive/1DfF86AtXKKhniCdes0IDHIAaz75m4hvW "
      ]
    },
    {
      "cell_type": "code",
      "metadata": {
        "id": "pemQoKk2xlqy"
      },
      "source": [
        "# imports\n",
        "from bs4 import BeautifulSoup\n",
        "import urllib.request"
      ],
      "execution_count": null,
      "outputs": []
    },
    {
      "cell_type": "code",
      "metadata": {
        "id": "2hLQyNdFyLoh"
      },
      "source": [
        "# global variable(s)\n",
        "url = 'https://www.aspire.uwo.ca/aq-courses/index.html'\n",
        "term = '2021 Fall'\n",
        "subjects = ['Business Studies', 'Co-Operative Education', 'Dramatic Arts', \n",
        "            'Family Studies', 'French as a Second Language', \n",
        "            'Guidance and Career Education', 'Honour Specialist', \n",
        "            'Integration of Information and Computer Technology in Instruction',\n",
        "            'Intermediate Division', 'Junior', 'Kindergarten', 'Mathematics',\n",
        "            'Music', 'Primary', 'Reading', 'Religious Education in Catholic Schools',\n",
        "            'Senior Division', 'Special Education', 'Teacher Librarian',\n",
        "            'Teaching Children with Communication Needs (Autism Spectrum Disorders)',\n",
        "            'Teaching English Language Learners', 'Teaching Students Who are Blind/Low Vision',\n",
        "            'Visual Arts']\n",
        "\n",
        "# grab each subject URL\n",
        "subject_links = []\n",
        "\n",
        "html_page = urllib.request.urlopen(url)\n",
        "soup = BeautifulSoup(html_page, \"html.parser\")\n",
        "\n",
        "for link in soup.findAll('a', href=True):\n",
        "    if link.text.strip() in subjects:\n",
        "        subject_links.append('https://www.aspire.uwo.ca/aq-courses/' + link['href'])\n",
        "\n",
        "# grab each course URL\n",
        "all_courses = []\n",
        "for link in subject_links:\n",
        "  print(f'Grabbing courses from {link}... ')\n",
        "  html_page = urllib.request.urlopen(link)\n",
        "  soup = BeautifulSoup(html_page, \"html.parser\")\n",
        "\n",
        "  # only find the links with publicCourseSearchDetails in the link\n",
        "  for link in soup.findAll('a'):\n",
        "    s = str(link.get('href'))\n",
        "    if s.find('publicCourseSearchDetails') > 1:\n",
        "      all_courses.append(s)\n",
        "\n",
        "print('Done.')"
      ],
      "execution_count": null,
      "outputs": []
    },
    {
      "cell_type": "code",
      "metadata": {
        "id": "pUm0v5xByn9k"
      },
      "source": [
        "# populate course_urls_dict \n",
        "course_urls_dict = {}\n",
        "\n",
        "for link in all_courses:\n",
        "\n",
        "    html_page = urllib.request.urlopen(link)\n",
        "    soup = BeautifulSoup(html_page, \"html.parser\")\n",
        "\n",
        "    subject = soup.select_one('span[class*=title]').text.strip()\n",
        "    \n",
        "    # miscellaneous fixes\n",
        "    subject = subject.replace('Business Studies - ', '')\n",
        "    subject = subject.replace('Honour Specialist-', 'Honour Specialist -')\n",
        "    if subject.find('Science General') == -1:\n",
        "        subject = subject.replace('Honour Specialist - Science', 'Honour Specialist -')\n",
        "    \n",
        "    print(f'{subject}... Done.')\n",
        "  \n",
        "    course_urls_dict[subject] = link\n",
        "\n",
        "print('Done.')\n",
        "\n",
        "# check the courses dictionary\n",
        "# for (k,v) in course_urls_dict.items():\n",
        "#     print(f'{k}: {v}')   "
      ],
      "execution_count": null,
      "outputs": []
    },
    {
      "cell_type": "code",
      "metadata": {
        "id": "qlWmSV1x7r5z"
      },
      "source": [
        "# create html file with course listings\n",
        "file = './courses.html'\n",
        "with open(file, 'w') as f:\n",
        "  s = f'<HTML>\\n<HEAD>\\n\\t<TITLE>{term}</TITLE>\\n</HEAD>\\n<BODY>\\n'\n",
        "  f.write(s)\n",
        "  for course, url in course_urls_dict.items():\n",
        "    f.write(f'\\t<a href=\"{url}\">{course}</a><br>\\n')\n",
        "  s = '</BODY>\\n<HTML>'\n",
        "  f.write(s)\n",
        "f.close()\n",
        "print(f'{file} created.')"
      ],
      "execution_count": null,
      "outputs": []
    }
  ]
}