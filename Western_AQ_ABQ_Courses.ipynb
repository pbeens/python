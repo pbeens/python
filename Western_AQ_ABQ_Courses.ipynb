{
  "nbformat": 4,
  "nbformat_minor": 0,
  "metadata": {
    "colab": {
      "name": "Western AQ/ABQ Courses.ipynb",
      "provenance": [],
      "collapsed_sections": [],
      "authorship_tag": "ABX9TyM5LS2AUXK+o27SLH8WBX96",
      "include_colab_link": true
    },
    "kernelspec": {
      "name": "python3",
      "display_name": "Python 3"
    },
    "language_info": {
      "name": "python"
    }
  },
  "cells": [
    {
      "cell_type": "markdown",
      "metadata": {
        "id": "view-in-github",
        "colab_type": "text"
      },
      "source": [
        "<a href=\"https://colab.research.google.com/github/pbeens/python/blob/master/Western_AQ_ABQ_Courses.ipynb\" target=\"_parent\"><img src=\"https://colab.research.google.com/assets/colab-badge.svg\" alt=\"Open In Colab\"/></a>"
      ]
    },
    {
      "cell_type": "markdown",
      "metadata": {
        "id": "nevL3VMGxkMV"
      },
      "source": [
        "This program retrieves all the AQ and ABQ courses from the UWO website and stores them in an HTML file.\n",
        "\n",
        "GitHub URL: https://github.com/pbeens/python/blob/master/Western_AQ_ABQ_Courses.ipynb\n",
        "\n",
        "Colab URL: https://colab.research.google.com/drive/1DfF86AtXKKhniCdes0IDHIAaz75m4hvW "
      ]
    },
    {
      "cell_type": "code",
      "metadata": {
        "id": "pemQoKk2xlqy"
      },
      "source": [
        "# imports\n",
        "from bs4 import BeautifulSoup\n",
        "import urllib.request"
      ],
      "execution_count": 1,
      "outputs": []
    },
    {
      "cell_type": "code",
      "metadata": {
        "id": "2hLQyNdFyLoh",
        "colab": {
          "base_uri": "https://localhost:8080/"
        },
        "outputId": "53dada6a-bbc3-49f1-d725-6c9813405b59"
      },
      "source": [
        "# global variable(s)\n",
        "url = 'https://www.aspire.uwo.ca/aq-courses/index.html'\n",
        "term = 'Fall 2021'\n",
        "subjects = ['Business Studies', 'Co-Operative Education', 'Dramatic Arts', \n",
        "            'Family Studies', 'French as a Second Language', \n",
        "            'Guidance and Career Education', 'Honour Specialist', \n",
        "            'Integration of Information and Computer Technology in Instruction',\n",
        "            'Intermediate Division', 'Junior', 'Kindergarten', 'Mathematics',\n",
        "            'Music', 'Primary', 'Reading', 'Religious Education in Catholic Schools',\n",
        "            'Senior Division', 'Special Education', 'Teacher Librarian',\n",
        "            'Teaching Children with Communication Needs (Autism Spectrum Disorders)',\n",
        "            'Teaching English Language Learners', 'Teaching Students Who are Blind/Low Vision',\n",
        "            'Visual Arts']\n",
        "\n",
        "# grab each subject URL\n",
        "subject_links = []\n",
        "\n",
        "html_page = urllib.request.urlopen(url)\n",
        "soup = BeautifulSoup(html_page, \"html.parser\")\n",
        "\n",
        "for link in soup.findAll('a', href=True):\n",
        "    if link.text.strip() in subjects:\n",
        "        subject_links.append('https://www.aspire.uwo.ca/aq-courses/' + link['href'])\n",
        "\n",
        "# grab each course URL\n",
        "all_courses = []\n",
        "for link in subject_links:\n",
        "  print(f'Grabbing courses from {link}... ')\n",
        "  html_page = urllib.request.urlopen(link)\n",
        "  soup = BeautifulSoup(html_page, \"html.parser\")\n",
        "\n",
        "  # only find the links with publicCourseSearchDetails in the link\n",
        "  for link in soup.findAll('a'):\n",
        "    s = str(link.get('href'))\n",
        "    if s.find('publicCourseSearchDetails') > 1:\n",
        "      all_courses.append(s)\n",
        "\n",
        "print('Done.')"
      ],
      "execution_count": 2,
      "outputs": [
        {
          "output_type": "stream",
          "text": [
            "Grabbing courses from https://www.aspire.uwo.ca/aq-courses/business-studies.html... \n",
            "Grabbing courses from https://www.aspire.uwo.ca/aq-courses/cooperative-education.html... \n",
            "Grabbing courses from https://www.aspire.uwo.ca/aq-courses/dramatic-arts.html... \n",
            "Grabbing courses from https://www.aspire.uwo.ca/aq-courses/family-studies.html... \n",
            "Grabbing courses from https://www.aspire.uwo.ca/aq-courses/french-second-language.html... \n",
            "Grabbing courses from https://www.aspire.uwo.ca/aq-courses/guidance-career-education.html... \n",
            "Grabbing courses from https://www.aspire.uwo.ca/aq-courses/honour-specialist.html... \n",
            "Grabbing courses from https://www.aspire.uwo.ca/aq-courses/integration-information-computer-technology.html... \n",
            "Grabbing courses from https://www.aspire.uwo.ca/aq-courses/intermediate-division.html... \n",
            "Grabbing courses from https://www.aspire.uwo.ca/aq-courses/junior-division.html... \n",
            "Grabbing courses from https://www.aspire.uwo.ca/aq-courses/kindergarten.html... \n",
            "Grabbing courses from https://www.aspire.uwo.ca/aq-courses/mathematics.html... \n",
            "Grabbing courses from https://www.aspire.uwo.ca/aq-courses/music.html... \n",
            "Grabbing courses from https://www.aspire.uwo.ca/aq-courses/primary-division.html... \n",
            "Grabbing courses from https://www.aspire.uwo.ca/aq-courses/reading.html... \n",
            "Grabbing courses from https://www.aspire.uwo.ca/aq-courses/religious-education.html... \n",
            "Grabbing courses from https://www.aspire.uwo.ca/aq-courses/senior-division.html... \n",
            "Grabbing courses from https://www.aspire.uwo.ca/aq-courses/special-education.html... \n",
            "Grabbing courses from https://www.aspire.uwo.ca/aq-courses/teacher-librarian.html... \n",
            "Grabbing courses from https://www.aspire.uwo.ca/aq-courses/teaching-children-with-communication-needs.html... \n",
            "Grabbing courses from https://www.aspire.uwo.ca/aq-courses/teaching-english-language-learners.html... \n",
            "Grabbing courses from https://www.aspire.uwo.ca/aq-courses/teaching-students-blind.html... \n",
            "Grabbing courses from https://www.aspire.uwo.ca/aq-courses/visual-arts.html... \n",
            "Done.\n"
          ],
          "name": "stdout"
        }
      ]
    },
    {
      "cell_type": "code",
      "metadata": {
        "id": "pUm0v5xByn9k",
        "colab": {
          "base_uri": "https://localhost:8080/"
        },
        "outputId": "60f6395a-d340-45d0-95b0-4d4f3677e8d1"
      },
      "source": [
        "# populate course_urls_dict \n",
        "course_urls_dict = {}\n",
        "\n",
        "for link in all_courses:\n",
        "\n",
        "    html_page = urllib.request.urlopen(link)\n",
        "    soup = BeautifulSoup(html_page, \"html.parser\")\n",
        "\n",
        "    subject = soup.select_one('span[class*=title]').text.strip()\n",
        "    \n",
        "    # miscellaneous fixes\n",
        "    subject = subject.replace('Business Studies - ', '')\n",
        "    subject = subject.replace('Honour Specialist-', 'Honour Specialist -')\n",
        "    if subject.find('Science General') == -1:\n",
        "        subject = subject.replace('Honour Specialist - Science', 'Honour Specialist -')\n",
        "\n",
        "    divs = soup.find_all('div', {'class':'courseSectionSemester'}) # where the term is stored\n",
        "    for div in divs:\n",
        "        if len(div.text) > 0: # skip the empty ones\n",
        "            if div.text.strip() == term:\n",
        "                # clean up the title (course name) for use in the HTML file\n",
        "                # title = str(soup.title) \\\n",
        "                # .replace('<title>','') \\\n",
        "                course_urls_dict[subject] = link\n",
        "                print(f'{div.text.strip()}: {subject}') # tell us which courses were found\n",
        "\n",
        "print('Done.')\n",
        "\n",
        "# check the courses dictionary\n",
        "# for (k,v) in course_urls_dict.items():\n",
        "#     print(f'{k}: {v}')   "
      ],
      "execution_count": 3,
      "outputs": [
        {
          "output_type": "stream",
          "text": [
            "Fall 2021: Accounting Part 1\n",
            "Fall 2021: Accounting Part 2\n",
            "Fall 2021: Accounting Specialist\n",
            "Fall 2021: Entrepreneurship Part 1\n",
            "Fall 2021: Entrepreneurship Part 2\n",
            "Fall 2021: Entrepreneurship Specialist\n",
            "Fall 2021: Honour Specialist - Business Studies\n",
            "Fall 2021: Information and Communications Technology Part 1\n",
            "Fall 2021: Information and Communications Technology Part 2\n",
            "Fall 2021: Information and Communications Technology Specialist\n",
            "Fall 2021: Intermediate Division - Business Studies General\n",
            "Fall 2021: Senior Division - Business Studies General\n",
            "Fall 2021: Family Studies Part 1\n",
            "Fall 2021: Family Studies Part 2\n",
            "Fall 2021: Family Studies Specialist\n",
            "Fall 2021: Honour Specialist - Family Studies\n",
            "Fall 2021: Intermediate Division - Family Studies\n",
            "Fall 2021: Senior Division - Family Studies\n",
            "Fall 2021: French as a Second Language Part 1\n",
            "Fall 2021: French as a Second Language Part 2\n",
            "Fall 2021: French as a Second Language Specialist\n",
            "Fall 2021: Honour Specialist - French as a Second Language\n",
            "Fall 2021: Intermediate Division - French as a Second Language\n",
            "Fall 2021: Senior Division - French as a Second Language\n",
            "Fall 2021: Guidance and Career Education Part 1\n",
            "Fall 2021: Guidance and Career Education Part 2\n",
            "Fall 2021: Guidance and Career Education Specialist\n",
            "Fall 2021: Honour Specialist - Business Studies\n",
            "Fall 2021: Honour Specialist - English\n",
            "Fall 2021: Honour Specialist - Family Studies\n",
            "Fall 2021: Honour Specialist - French as a Second Language\n",
            "Fall 2021: Honour Specialist - Health and Physical Education\n",
            "Fall 2021: Honour Specialist - History\n",
            "Fall 2021: Honour Specialist - Religious Education in Catholic Schools\n",
            "Fall 2021: Honour Specialist - Social Sciences\n",
            "Fall 2021: Intermediate Division - Business Studies General\n",
            "Fall 2021: Intermediate Division - English\n",
            "Fall 2021: Intermediate Division - Family Studies\n",
            "Fall 2021: Intermediate Division - French as a Second Language\n",
            "Fall 2021: Intermediate Division - Health and Physical Education\n",
            "Fall 2021: Intermediate Division - Religious Education in Catholic Schools\n",
            "Fall 2021: Junior Division (ABQ)\n",
            "Fall 2021: Kindergarten Part 1\n",
            "Fall 2021: Kindergarten Part 2\n",
            "Fall 2021: Kindergarten Specialist\n",
            "Fall 2021: Mathematics Primary and Junior Part 1\n",
            "Fall 2021: Mathematics Primary and Junior Part 2\n",
            "Fall 2021: Mathematics Primary and Junior Specialist\n",
            "Fall 2021: Primary Division (ABQ)\n",
            "Fall 2021: Primary Education Part 1\n",
            "Fall 2021: Primary Education Part 2\n",
            "Fall 2021: Primary Education Specialist\n",
            "Fall 2021: Reading Part 1\n",
            "Fall 2021: Reading Part 2\n",
            "Fall 2021: Reading Specialist\n",
            "Fall 2021: Honour Specialist - Religious Education in Catholic Schools\n",
            "Fall 2021: Intermediate Division - Religious Education in Catholic Schools\n",
            "Fall 2021: Religious Education in Catholic Schools Part 1\n",
            "Fall 2021: Religious Education in Catholic Schools Part 2\n",
            "Fall 2021: Religious Education in Catholic Schools Specialist\n",
            "Fall 2021: Senior Division - Religious Education in Catholic Schools\n",
            "Fall 2021: Senior Division - Business Studies General\n",
            "Fall 2021: Senior Division - Economics\n",
            "Fall 2021: Senior Division - English\n",
            "Fall 2021: Senior Division - Family Studies\n",
            "Fall 2021: Senior Division - French as a Second Language\n",
            "Fall 2021: Senior Division - Health and Physical Education\n",
            "Fall 2021: Senior Division - History\n",
            "Fall 2021: Senior Division - Law\n",
            "Fall 2021: Senior Division - Politics\n",
            "Fall 2021: Senior Division - Religious Education in Catholic Schools\n",
            "Fall 2021: Senior Division - Social Sciences General\n",
            "Fall 2021: Special Education Part 1\n",
            "Fall 2021: Special Education Part 2\n",
            "Fall 2021: Special Education Specialist\n",
            "Fall 2021: Teaching English Language Learners Part 1\n",
            "Fall 2021: Teaching English Language Learners Part 1\n",
            "Fall 2021: Teaching English Language Learners Part 2\n",
            "Fall 2021: Teaching English Language Learners Part 2\n",
            "Fall 2021: Teaching English Language Learners Specialist\n",
            "Fall 2021: Teaching English Language Learners Specialist\n",
            "Done.\n"
          ],
          "name": "stdout"
        }
      ]
    },
    {
      "cell_type": "code",
      "metadata": {
        "id": "qlWmSV1x7r5z",
        "colab": {
          "base_uri": "https://localhost:8080/"
        },
        "outputId": "e7f1ac2a-f7f1-4232-d5d8-17ad63be49cf"
      },
      "source": [
        "# create html file with course listings\n",
        "file = './courses.html'\n",
        "with open(file, 'w') as f:\n",
        "  s = f'<HTML>\\n<HEAD>\\n\\t<TITLE>{term}</TITLE>\\n</HEAD>\\n<BODY>\\n'\n",
        "  f.write(s)\n",
        "  for course, url in course_urls_dict.items():\n",
        "    f.write(f'\\t<a href=\"{url}\">{course}</a><br>\\n')\n",
        "  s = '</BODY>\\n<HTML>'\n",
        "  f.write(s)\n",
        "f.close()\n",
        "print(f'{file} created.')"
      ],
      "execution_count": 4,
      "outputs": [
        {
          "output_type": "stream",
          "text": [
            "./courses.html created.\n"
          ],
          "name": "stdout"
        }
      ]
    }
  ]
}