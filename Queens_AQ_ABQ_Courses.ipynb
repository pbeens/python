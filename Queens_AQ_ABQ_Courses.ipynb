{
  "nbformat": 4,
  "nbformat_minor": 0,
  "metadata": {
    "colab": {
      "name": "Queens AQ/ABQ Courses.ipynb",
      "provenance": [],
      "collapsed_sections": [],
      "authorship_tag": "ABX9TyNIfujAg5Ypl79DFPQLQ2D6",
      "include_colab_link": true
    },
    "kernelspec": {
      "name": "python3",
      "display_name": "Python 3"
    },
    "language_info": {
      "name": "python"
    }
  },
  "cells": [
    {
      "cell_type": "markdown",
      "metadata": {
        "id": "view-in-github",
        "colab_type": "text"
      },
      "source": [
        "<a href=\"https://colab.research.google.com/github/pbeens/python/blob/master/Queens_AQ_ABQ_Courses.ipynb\" target=\"_parent\"><img src=\"https://colab.research.google.com/assets/colab-badge.svg\" alt=\"Open In Colab\"/></a>"
      ]
    },
    {
      "cell_type": "markdown",
      "metadata": {
        "id": "xpQa6ofvkGOF"
      },
      "source": [
        "This program gets a listing of all the course links with 'CONT' in them on the reference URL from Queen's University, then searches for courses being offered in the reference term. The course names are then output to an HTML file with links to each course."
      ]
    },
    {
      "cell_type": "code",
      "metadata": {
        "id": "4JkB0tWvKnBj"
      },
      "source": [
        "# imports\n",
        "from bs4 import BeautifulSoup\n",
        "import urllib.request"
      ],
      "execution_count": null,
      "outputs": []
    },
    {
      "cell_type": "code",
      "metadata": {
        "id": "xKfZl25QKssU"
      },
      "source": [
        "# global variable(s)\n",
        "url = 'https://coursesforteachers.ca'\n",
        "term = 'Late Summer 2021'"
      ],
      "execution_count": null,
      "outputs": []
    },
    {
      "cell_type": "code",
      "metadata": {
        "id": "dKAAERSSKtNv"
      },
      "source": [
        "# grab the main URL page that lists the courses\n",
        "print('Grabbing the main web page...')\n",
        "html_page = urllib.request.urlopen(url + '/courses')\n",
        "soup = BeautifulSoup(html_page, \"html.parser\")"
      ],
      "execution_count": null,
      "outputs": []
    },
    {
      "cell_type": "code",
      "metadata": {
        "id": "fmKFBeP2Kvra"
      },
      "source": [
        "# find all the links with CONT in the soup page\n",
        "courses = []\n",
        "print('Finding the links...')\n",
        "for link in soup.findAll('a'):\n",
        "    s = str(link.get('href'))\n",
        "    if s.count('CONT') > 0:\n",
        "        courses.append(s)"
      ],
      "execution_count": null,
      "outputs": []
    },
    {
      "cell_type": "code",
      "metadata": {
        "id": "Ym13-ytiK0PZ"
      },
      "source": [
        "# inspect each page for course date (Late Summer 2021 as an example)\n",
        "late_summer_courses = {}\n",
        "for course in courses:\n",
        "    course_with_path = url + course\n",
        "    print(f'Processing {course_with_path}...')\n",
        "    html_page = urllib.request.urlopen(course_with_path)\n",
        "    soup = BeautifulSoup(html_page, \"html.parser\")\n",
        "\n",
        "    if len(soup.body.findAll(text=term)) > 1:\n",
        "        course_name = soup.title.string.split('@')[0][8:].strip()\n",
        "        late_summer_courses[course_name] = course_with_path\n",
        "        # print(course_name, course_with_path)"
      ],
      "execution_count": null,
      "outputs": []
    },
    {
      "cell_type": "code",
      "metadata": {
        "id": "C0yCppW-K5zR"
      },
      "source": [
        "# create html file with desired course listings\n",
        "file = './courses.html'\n",
        "with open(file, 'w') as f:\n",
        "    s = f'''<HTML>\n",
        "<HEAD>\n",
        "<TITLE>{term}</TITLE>\n",
        "</HEAD>\n",
        "<BODY>'''\n",
        "    f.write(s)\n",
        "    for k, v in late_summer_courses.items():\n",
        "      f.write(f'<a href=\"{v}\">{k}</a><br>')\n",
        "    s = '''</BODY>\n",
        "<HTML>'''\n",
        "    f.write(s)"
      ],
      "execution_count": null,
      "outputs": []
    }
  ]
}