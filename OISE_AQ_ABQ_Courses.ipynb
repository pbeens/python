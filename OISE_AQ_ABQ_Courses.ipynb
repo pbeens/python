{
  "nbformat": 4,
  "nbformat_minor": 0,
  "metadata": {
    "colab": {
      "name": "OISE AQ/ABQ Courses.ipynb",
      "provenance": [],
      "collapsed_sections": [],
      "authorship_tag": "ABX9TyMZpyCQ9PQnEXzem/0sjiXd",
      "include_colab_link": true
    },
    "kernelspec": {
      "name": "python3",
      "display_name": "Python 3"
    },
    "language_info": {
      "name": "python"
    }
  },
  "cells": [
    {
      "cell_type": "markdown",
      "metadata": {
        "id": "view-in-github",
        "colab_type": "text"
      },
      "source": [
        "<a href=\"https://colab.research.google.com/github/pbeens/python/blob/master/OISE_AQ_ABQ_Courses.ipynb\" target=\"_parent\"><img src=\"https://colab.research.google.com/assets/colab-badge.svg\" alt=\"Open In Colab\"/></a>"
      ]
    },
    {
      "cell_type": "markdown",
      "metadata": {
        "id": "xpQa6ofvkGOF"
      },
      "source": [
        "This program scans all the URLs to compile a list of all AQ/ABQ courses offered by OISE, then scans each of those courses to see if they are offered in the prescribed term (see # global variables). The name and URL of each course offered that term is then stored locally in a webpage. \n",
        "\n",
        "GitHub URL: https://github.com/pbeens/python/blob/master/OISE_AQ_ABQ_Courses.ipynb\n",
        "\n",
        "Colab URL: https://colab.research.google.com/drive/18DxRzxTiDYHEOQ6ZlE4qqQO8C0_2r0t-"
      ]
    },
    {
      "cell_type": "code",
      "metadata": {
        "id": "4JkB0tWvKnBj"
      },
      "source": [
        "# imports\n",
        "from bs4 import BeautifulSoup\n",
        "import urllib.request"
      ],
      "execution_count": 1,
      "outputs": []
    },
    {
      "cell_type": "code",
      "metadata": {
        "id": "xKfZl25QKssU"
      },
      "source": [
        "# global variable(s)\n",
        "urls = ['https://cpl.oise.utoronto.ca/program_certificate/abq-primary-junior/',\n",
        "        'https://cpl.oise.utoronto.ca/program_certificate/abq-intermediate/',\n",
        "        'https://cpl.oise.utoronto.ca/program_certificate/abq-senior/',\n",
        "        'https://cpl.oise.utoronto.ca/program_certificate/one-session-additional-qualifications/',\n",
        "        'https://cpl.oise.utoronto.ca/program_certificate/three-session-additional-qualifications/',\n",
        "        'https://cpl.oise.utoronto.ca/program_certificate/honour-specialist/',\n",
        "        'https://cpl.oise.utoronto.ca/program_certificate/technological-education/']\n",
        "term = '2022 Winter'"
      ],
      "execution_count": 2,
      "outputs": []
    },
    {
      "cell_type": "code",
      "metadata": {
        "id": "dKAAERSSKtNv",
        "colab": {
          "base_uri": "https://localhost:8080/"
        },
        "outputId": "f16e796d-c0ba-4462-87d4-a209406742b0"
      },
      "source": [
        "# grab each URL\n",
        "links = []\n",
        "for url in urls:\n",
        "    print(f'Grabbing links from {url}... ')\n",
        "    html_page = urllib.request.urlopen(url)\n",
        "    soup = BeautifulSoup(html_page, \"html.parser\")\n",
        "    for link in soup.findAll('a'):\n",
        "        s = str(link.get('href'))\n",
        "        links.append(s)\n",
        "links = list(set(links)) # delete dupes\n",
        "links.sort()\n",
        "print('Done.')"
      ],
      "execution_count": 16,
      "outputs": [
        {
          "output_type": "stream",
          "name": "stdout",
          "text": [
            "Grabbing links from https://cpl.oise.utoronto.ca/program_certificate/abq-primary-junior/... \n",
            "Grabbing links from https://cpl.oise.utoronto.ca/program_certificate/abq-intermediate/... \n",
            "Grabbing links from https://cpl.oise.utoronto.ca/program_certificate/abq-senior/... \n",
            "Grabbing links from https://cpl.oise.utoronto.ca/program_certificate/one-session-additional-qualifications/... \n",
            "Grabbing links from https://cpl.oise.utoronto.ca/program_certificate/three-session-additional-qualifications/... \n",
            "Grabbing links from https://cpl.oise.utoronto.ca/program_certificate/honour-specialist/... \n",
            "Grabbing links from https://cpl.oise.utoronto.ca/program_certificate/technological-education/... \n",
            "Done.\n"
          ]
        }
      ]
    },
    {
      "cell_type": "code",
      "metadata": {
        "id": "P9T_BB4-lrQ6",
        "colab": {
          "base_uri": "https://localhost:8080/"
        },
        "outputId": "8b0eac0e-94cf-4ac4-c4af-ff72faf84c9d"
      },
      "source": [
        "# warm fuzzy feeling that it grabbed all the courses\n",
        "# also delete non-courses\n",
        "all_courses = []\n",
        "for link in links:\n",
        "    if link.find('/course/') > 0:\n",
        "        all_courses.append(link)\n",
        "        print(link)"
      ],
      "execution_count": 19,
      "outputs": [
        {
          "output_type": "stream",
          "name": "stdout",
          "text": [
            "https://cpl.oise.utoronto.ca/course/biology-honour-specialist/\n",
            "https://cpl.oise.utoronto.ca/course/chemistry-honour-specialist/\n",
            "https://cpl.oise.utoronto.ca/course/co-operative-education-part-1/\n",
            "https://cpl.oise.utoronto.ca/course/co-operative-education-part-2/\n",
            "https://cpl.oise.utoronto.ca/course/co-operative-education-specialist/\n",
            "https://cpl.oise.utoronto.ca/course/computer-studies-senior/\n",
            "https://cpl.oise.utoronto.ca/course/construction-technology-grades-11-12/\n",
            "https://cpl.oise.utoronto.ca/course/construction-technology-grades-9-10/\n",
            "https://cpl.oise.utoronto.ca/course/dramatic-arts-honour-specialist/\n",
            "https://cpl.oise.utoronto.ca/course/dramatic-arts-intermediate/\n",
            "https://cpl.oise.utoronto.ca/course/dramatic-arts-senior/\n",
            "https://cpl.oise.utoronto.ca/course/english-honour-specialist/\n",
            "https://cpl.oise.utoronto.ca/course/english-intermediate/\n",
            "https://cpl.oise.utoronto.ca/course/english-senior/\n",
            "https://cpl.oise.utoronto.ca/course/environmental-education-part-1/\n",
            "https://cpl.oise.utoronto.ca/course/environmental-education-part-2/\n",
            "https://cpl.oise.utoronto.ca/course/first-nations-metis-and-inuit-studies-intermediate/\n",
            "https://cpl.oise.utoronto.ca/course/first-nations-metis-and-inuit-studies-senior/\n",
            "https://cpl.oise.utoronto.ca/course/french-as-a-second-language-part-1/\n",
            "https://cpl.oise.utoronto.ca/course/french-as-a-second-language-part-2/\n",
            "https://cpl.oise.utoronto.ca/course/french-as-a-second-language-senior/\n",
            "https://cpl.oise.utoronto.ca/course/french-as-a-second-language-specialist/\n",
            "https://cpl.oise.utoronto.ca/course/french-honour-specialist/\n",
            "https://cpl.oise.utoronto.ca/course/geography-honour-specialist/\n",
            "https://cpl.oise.utoronto.ca/course/geography-senior/\n",
            "https://cpl.oise.utoronto.ca/course/guidance-and-career-education-part-1/\n",
            "https://cpl.oise.utoronto.ca/course/guidance-and-career-education-part-2/\n",
            "https://cpl.oise.utoronto.ca/course/guidance-and-career-education-specialist/\n",
            "https://cpl.oise.utoronto.ca/course/health-and-physical-education-honour-specialist/\n",
            "https://cpl.oise.utoronto.ca/course/health-and-physical-education-intermediate-senior-part-2/\n",
            "https://cpl.oise.utoronto.ca/course/health-and-physical-education-intermediate-senior-specialist/\n",
            "https://cpl.oise.utoronto.ca/course/health-and-physical-education-intermediate/\n",
            "https://cpl.oise.utoronto.ca/course/health-and-physical-education-senior/\n",
            "https://cpl.oise.utoronto.ca/course/history-honour-specialist/\n",
            "https://cpl.oise.utoronto.ca/course/history-intermediate/\n",
            "https://cpl.oise.utoronto.ca/course/history-senior/\n",
            "https://cpl.oise.utoronto.ca/course/hospitality-and-tourism-grades-11-and-12/\n",
            "https://cpl.oise.utoronto.ca/course/hospitality-and-tourism-grades-9-and-10/\n",
            "https://cpl.oise.utoronto.ca/course/integration-of-information-and-computer-technology-in-instruction-part-1/\n",
            "https://cpl.oise.utoronto.ca/course/junior-basic-focus-on-administration/\n",
            "https://cpl.oise.utoronto.ca/course/junior-basic-teaching-the-junior-child-focus/\n",
            "https://cpl.oise.utoronto.ca/course/kindergarten-part-1/\n",
            "https://cpl.oise.utoronto.ca/course/kindergarten-part-2/\n",
            "https://cpl.oise.utoronto.ca/course/kindergarten-specialist/\n",
            "https://cpl.oise.utoronto.ca/course/law-senior/\n",
            "https://cpl.oise.utoronto.ca/course/mathematics-honour-specialist/\n",
            "https://cpl.oise.utoronto.ca/course/mathematics-intermediate/\n",
            "https://cpl.oise.utoronto.ca/course/mathematics-primary-junior-part-1/\n",
            "https://cpl.oise.utoronto.ca/course/mathematics-primary-junior-part-2/\n",
            "https://cpl.oise.utoronto.ca/course/mathematics-primary-junior-specialist/\n",
            "https://cpl.oise.utoronto.ca/course/mathematics-senior/\n",
            "https://cpl.oise.utoronto.ca/course/music-honour-specialist/\n",
            "https://cpl.oise.utoronto.ca/course/music-instrumental-intermediate/\n",
            "https://cpl.oise.utoronto.ca/course/music-instrumental-senior/\n",
            "https://cpl.oise.utoronto.ca/course/orientation-to-teaching-in-ontario/\n",
            "https://cpl.oise.utoronto.ca/course/physics-honour-specialist/\n",
            "https://cpl.oise.utoronto.ca/course/primary-basic/\n",
            "https://cpl.oise.utoronto.ca/course/reading-part-1/\n",
            "https://cpl.oise.utoronto.ca/course/reading-part-2/\n",
            "https://cpl.oise.utoronto.ca/course/reading-specialist/\n",
            "https://cpl.oise.utoronto.ca/course/science-biology-senior/\n",
            "https://cpl.oise.utoronto.ca/course/science-chemistry-senior/\n",
            "https://cpl.oise.utoronto.ca/course/science-physics-senior/\n",
            "https://cpl.oise.utoronto.ca/course/social-sciences-general-senior/\n",
            "https://cpl.oise.utoronto.ca/course/social-sciences-honour-specialist/\n",
            "https://cpl.oise.utoronto.ca/course/special-education-part-1-elementary-focus/\n",
            "https://cpl.oise.utoronto.ca/course/special-education-part-1-secondary-focus/\n",
            "https://cpl.oise.utoronto.ca/course/special-education-part-1/\n",
            "https://cpl.oise.utoronto.ca/course/special-education-part-2/\n",
            "https://cpl.oise.utoronto.ca/course/special-education-specialist/\n",
            "https://cpl.oise.utoronto.ca/course/student-assessment-and-evaluation/\n",
            "https://cpl.oise.utoronto.ca/course/teacher-librarian-part-1/\n",
            "https://cpl.oise.utoronto.ca/course/teacher-librarian-part-2/\n",
            "https://cpl.oise.utoronto.ca/course/teacher-librarian-specialist/\n",
            "https://cpl.oise.utoronto.ca/course/teaching-english-language-learners-part-1-elementary-focus/\n",
            "https://cpl.oise.utoronto.ca/course/teaching-english-language-learners-part-1-secondary-focus/\n",
            "https://cpl.oise.utoronto.ca/course/teaching-english-language-learners-part-1/\n",
            "https://cpl.oise.utoronto.ca/course/teaching-english-language-learners-part-2/\n",
            "https://cpl.oise.utoronto.ca/course/teaching-english-language-learners-specialist/\n",
            "https://cpl.oise.utoronto.ca/course/technological-education-honour-specialist/\n",
            "https://cpl.oise.utoronto.ca/course/visual-arts-honour-specialist/\n",
            "https://cpl.oise.utoronto.ca/course/visual-arts-part-1/\n",
            "https://cpl.oise.utoronto.ca/course/visual-arts-part-2/\n",
            "https://cpl.oise.utoronto.ca/course/visual-arts-specialist/\n"
          ]
        }
      ]
    },
    {
      "cell_type": "code",
      "metadata": {
        "id": "Ym13-ytiK0PZ",
        "colab": {
          "base_uri": "https://localhost:8080/"
        },
        "outputId": "e24cf759-3a06-4c1c-d18e-748d3a6354b7"
      },
      "source": [
        "# inspect each page for course date (Late Summer 2021 as an example)\n",
        "term_courses = {}\n",
        "for course in all_courses:\n",
        "  print(f'Processing {course}...')\n",
        "  html_page = urllib.request.urlopen(course)\n",
        "  soup = BeautifulSoup(html_page, \"html.parser\")\n",
        "  # need to do some magic to find the term text\n",
        "  divs = soup.find_all('div', {'class':'grid--auto'}) # where the term is stored\n",
        "  for div in divs:\n",
        "    if len(div.text) > 0: # skip the empty ones\n",
        "      if div.text == term:\n",
        "        # clean up the title (course name) for use in the HTML file\n",
        "        title = str(soup.title) \\\n",
        "          .replace('<title>','') \\\n",
        "          .replace(' - OISE Continuing and Professional Learning</title>','')\n",
        "        print(f'{term}: {title}') # tell us which courses were found\n",
        "        term_courses[title] = course # add to dict of term_courses\n",
        "        break # once found we can move on\n",
        "print('Done.')"
      ],
      "execution_count": 20,
      "outputs": [
        {
          "output_type": "stream",
          "name": "stdout",
          "text": [
            "Processing https://cpl.oise.utoronto.ca/course/biology-honour-specialist/...\n",
            "Processing https://cpl.oise.utoronto.ca/course/chemistry-honour-specialist/...\n",
            "Processing https://cpl.oise.utoronto.ca/course/co-operative-education-part-1/...\n",
            "2022 Winter: Co-Operative Education Part 1\n",
            "Processing https://cpl.oise.utoronto.ca/course/co-operative-education-part-2/...\n",
            "Processing https://cpl.oise.utoronto.ca/course/co-operative-education-specialist/...\n",
            "Processing https://cpl.oise.utoronto.ca/course/computer-studies-senior/...\n",
            "Processing https://cpl.oise.utoronto.ca/course/construction-technology-grades-11-12/...\n",
            "Processing https://cpl.oise.utoronto.ca/course/construction-technology-grades-9-10/...\n",
            "Processing https://cpl.oise.utoronto.ca/course/dramatic-arts-honour-specialist/...\n",
            "Processing https://cpl.oise.utoronto.ca/course/dramatic-arts-intermediate/...\n",
            "Processing https://cpl.oise.utoronto.ca/course/dramatic-arts-senior/...\n",
            "Processing https://cpl.oise.utoronto.ca/course/english-honour-specialist/...\n",
            "2022 Winter: English - Honour Specialist\n",
            "Processing https://cpl.oise.utoronto.ca/course/english-intermediate/...\n",
            "2022 Winter: English - Intermediate\n",
            "Processing https://cpl.oise.utoronto.ca/course/english-senior/...\n",
            "2022 Winter: English - Senior\n",
            "Processing https://cpl.oise.utoronto.ca/course/environmental-education-part-1/...\n",
            "Processing https://cpl.oise.utoronto.ca/course/environmental-education-part-2/...\n",
            "Processing https://cpl.oise.utoronto.ca/course/first-nations-metis-and-inuit-studies-intermediate/...\n",
            "2022 Winter: First Nations, Metis and Inuit Studies - Intermediate\n",
            "Processing https://cpl.oise.utoronto.ca/course/first-nations-metis-and-inuit-studies-senior/...\n",
            "2022 Winter: First Nations, Metis and Inuit Studies - Senior\n",
            "Processing https://cpl.oise.utoronto.ca/course/french-as-a-second-language-part-1/...\n",
            "2022 Winter: French as a Second Language Part 1\n",
            "Processing https://cpl.oise.utoronto.ca/course/french-as-a-second-language-part-2/...\n",
            "2022 Winter: French as a Second Language Part 2\n",
            "Processing https://cpl.oise.utoronto.ca/course/french-as-a-second-language-senior/...\n",
            "Processing https://cpl.oise.utoronto.ca/course/french-as-a-second-language-specialist/...\n",
            "Processing https://cpl.oise.utoronto.ca/course/french-honour-specialist/...\n",
            "Processing https://cpl.oise.utoronto.ca/course/geography-honour-specialist/...\n",
            "Processing https://cpl.oise.utoronto.ca/course/geography-senior/...\n",
            "2022 Winter: Geography - Senior\n",
            "Processing https://cpl.oise.utoronto.ca/course/guidance-and-career-education-part-1/...\n",
            "2022 Winter: Guidance and Career Education Part 1\n",
            "Processing https://cpl.oise.utoronto.ca/course/guidance-and-career-education-part-2/...\n",
            "2022 Winter: Guidance and Career Education Part 2\n",
            "Processing https://cpl.oise.utoronto.ca/course/guidance-and-career-education-specialist/...\n",
            "2022 Winter: Guidance and Career Education Specialist\n",
            "Processing https://cpl.oise.utoronto.ca/course/health-and-physical-education-honour-specialist/...\n",
            "2022 Winter: Health and Physical Education - Honour Specialist\n",
            "Processing https://cpl.oise.utoronto.ca/course/health-and-physical-education-intermediate-senior-part-2/...\n",
            "Processing https://cpl.oise.utoronto.ca/course/health-and-physical-education-intermediate-senior-specialist/...\n",
            "2022 Winter: Health and Physical Education (Intermediate &amp; Senior) Specialist\n",
            "Processing https://cpl.oise.utoronto.ca/course/health-and-physical-education-intermediate/...\n",
            "2022 Winter: Health and Physical Education - Intermediate\n",
            "Processing https://cpl.oise.utoronto.ca/course/health-and-physical-education-senior/...\n",
            "2022 Winter: Health and Physical Education - Senior\n",
            "Processing https://cpl.oise.utoronto.ca/course/history-honour-specialist/...\n",
            "Processing https://cpl.oise.utoronto.ca/course/history-intermediate/...\n",
            "2022 Winter: History - Intermediate\n",
            "Processing https://cpl.oise.utoronto.ca/course/history-senior/...\n",
            "2022 Winter: History - Senior\n",
            "Processing https://cpl.oise.utoronto.ca/course/hospitality-and-tourism-grades-11-and-12/...\n",
            "Processing https://cpl.oise.utoronto.ca/course/hospitality-and-tourism-grades-9-and-10/...\n",
            "Processing https://cpl.oise.utoronto.ca/course/integration-of-information-and-computer-technology-in-instruction-part-1/...\n",
            "Processing https://cpl.oise.utoronto.ca/course/junior-basic-focus-on-administration/...\n",
            "2022 Winter: Junior Basic - Focus on Administration\n",
            "Processing https://cpl.oise.utoronto.ca/course/junior-basic-teaching-the-junior-child-focus/...\n",
            "2022 Winter: Junior Basic - Teaching the Junior Child Focus\n",
            "Processing https://cpl.oise.utoronto.ca/course/kindergarten-part-1/...\n",
            "2022 Winter: Kindergarten Part 1\n",
            "Processing https://cpl.oise.utoronto.ca/course/kindergarten-part-2/...\n",
            "2022 Winter: Kindergarten Part 2\n",
            "Processing https://cpl.oise.utoronto.ca/course/kindergarten-specialist/...\n",
            "Processing https://cpl.oise.utoronto.ca/course/law-senior/...\n",
            "2022 Winter: Law - Senior\n",
            "Processing https://cpl.oise.utoronto.ca/course/mathematics-honour-specialist/...\n",
            "Processing https://cpl.oise.utoronto.ca/course/mathematics-intermediate/...\n",
            "2022 Winter: Mathematics - Intermediate\n",
            "Processing https://cpl.oise.utoronto.ca/course/mathematics-primary-junior-part-1/...\n",
            "2022 Winter: Mathematics (Primary &amp; Junior) Part 1\n",
            "Processing https://cpl.oise.utoronto.ca/course/mathematics-primary-junior-part-2/...\n",
            "2022 Winter: Mathematics (Primary &amp; Junior) Part 2\n",
            "Processing https://cpl.oise.utoronto.ca/course/mathematics-primary-junior-specialist/...\n",
            "2022 Winter: Mathematics (Primary &amp; Junior) Specialist\n",
            "Processing https://cpl.oise.utoronto.ca/course/mathematics-senior/...\n",
            "2022 Winter: Mathematics - Senior\n",
            "Processing https://cpl.oise.utoronto.ca/course/music-honour-specialist/...\n",
            "Processing https://cpl.oise.utoronto.ca/course/music-instrumental-intermediate/...\n",
            "Processing https://cpl.oise.utoronto.ca/course/music-instrumental-senior/...\n",
            "Processing https://cpl.oise.utoronto.ca/course/orientation-to-teaching-in-ontario/...\n",
            "2022 Winter: Orientation to Teaching in Ontario\n",
            "Processing https://cpl.oise.utoronto.ca/course/physics-honour-specialist/...\n",
            "Processing https://cpl.oise.utoronto.ca/course/primary-basic/...\n",
            "2022 Winter: Primary Basic\n",
            "Processing https://cpl.oise.utoronto.ca/course/reading-part-1/...\n",
            "2022 Winter: Reading Part 1\n",
            "Processing https://cpl.oise.utoronto.ca/course/reading-part-2/...\n",
            "2022 Winter: Reading Part 2\n",
            "Processing https://cpl.oise.utoronto.ca/course/reading-specialist/...\n",
            "2022 Winter: Reading Specialist\n",
            "Processing https://cpl.oise.utoronto.ca/course/science-biology-senior/...\n",
            "2022 Winter: Science Biology - Senior\n",
            "Processing https://cpl.oise.utoronto.ca/course/science-chemistry-senior/...\n",
            "2022 Winter: Science Chemistry - Senior\n",
            "Processing https://cpl.oise.utoronto.ca/course/science-physics-senior/...\n",
            "2022 Winter: Science Physics - Senior\n",
            "Processing https://cpl.oise.utoronto.ca/course/social-sciences-general-senior/...\n",
            "2022 Winter: Social Sciences General - Senior\n",
            "Processing https://cpl.oise.utoronto.ca/course/social-sciences-honour-specialist/...\n",
            "Processing https://cpl.oise.utoronto.ca/course/special-education-part-1-elementary-focus/...\n",
            "2022 Winter: Special Education Part 1 (Elementary Focus)\n",
            "Processing https://cpl.oise.utoronto.ca/course/special-education-part-1-secondary-focus/...\n",
            "2022 Winter: Special Education Part 1 (Secondary Focus)\n",
            "Processing https://cpl.oise.utoronto.ca/course/special-education-part-1/...\n",
            "Processing https://cpl.oise.utoronto.ca/course/special-education-part-2/...\n",
            "2022 Winter: Special Education Part 2\n",
            "Processing https://cpl.oise.utoronto.ca/course/special-education-specialist/...\n",
            "2022 Winter: Special Education Specialist\n",
            "Processing https://cpl.oise.utoronto.ca/course/student-assessment-and-evaluation/...\n",
            "2022 Winter: Student Assessment and Evaluation\n",
            "Processing https://cpl.oise.utoronto.ca/course/teacher-librarian-part-1/...\n",
            "2022 Winter: Teacher Librarian Part 1\n",
            "Processing https://cpl.oise.utoronto.ca/course/teacher-librarian-part-2/...\n",
            "2022 Winter: Teacher Librarian Part 2\n",
            "Processing https://cpl.oise.utoronto.ca/course/teacher-librarian-specialist/...\n",
            "Processing https://cpl.oise.utoronto.ca/course/teaching-english-language-learners-part-1-elementary-focus/...\n",
            "2022 Winter: Teaching English Language Learners Part 1 (Elementary Focus)\n",
            "Processing https://cpl.oise.utoronto.ca/course/teaching-english-language-learners-part-1-secondary-focus/...\n",
            "2022 Winter: Teaching English Language Learners Part 1 (Secondary Focus)\n",
            "Processing https://cpl.oise.utoronto.ca/course/teaching-english-language-learners-part-1/...\n",
            "Processing https://cpl.oise.utoronto.ca/course/teaching-english-language-learners-part-2/...\n",
            "2022 Winter: Teaching English Language Learners Part 2\n",
            "Processing https://cpl.oise.utoronto.ca/course/teaching-english-language-learners-specialist/...\n",
            "2022 Winter: Teaching English Language Learners Specialist\n",
            "Processing https://cpl.oise.utoronto.ca/course/technological-education-honour-specialist/...\n",
            "Processing https://cpl.oise.utoronto.ca/course/visual-arts-honour-specialist/...\n",
            "Processing https://cpl.oise.utoronto.ca/course/visual-arts-part-1/...\n",
            "2022 Winter: Visual Arts Part 1\n",
            "Processing https://cpl.oise.utoronto.ca/course/visual-arts-part-2/...\n",
            "2022 Winter: Visual Arts Part 2\n",
            "Processing https://cpl.oise.utoronto.ca/course/visual-arts-specialist/...\n",
            "Done.\n"
          ]
        }
      ]
    },
    {
      "cell_type": "code",
      "metadata": {
        "id": "o_-n0FgithlZ",
        "colab": {
          "base_uri": "https://localhost:8080/"
        },
        "outputId": "b7ced506-b383-4a1d-e480-be4870dfb332"
      },
      "source": [
        "# test section to test the term_courses dict\n",
        "for (k, v) in term_courses.items():\n",
        "  print(f'{k}: {v}')"
      ],
      "execution_count": 21,
      "outputs": [
        {
          "output_type": "stream",
          "name": "stdout",
          "text": [
            "Co-Operative Education Part 1: https://cpl.oise.utoronto.ca/course/co-operative-education-part-1/\n",
            "English - Honour Specialist: https://cpl.oise.utoronto.ca/course/english-honour-specialist/\n",
            "English - Intermediate: https://cpl.oise.utoronto.ca/course/english-intermediate/\n",
            "English - Senior: https://cpl.oise.utoronto.ca/course/english-senior/\n",
            "First Nations, Metis and Inuit Studies - Intermediate: https://cpl.oise.utoronto.ca/course/first-nations-metis-and-inuit-studies-intermediate/\n",
            "First Nations, Metis and Inuit Studies - Senior: https://cpl.oise.utoronto.ca/course/first-nations-metis-and-inuit-studies-senior/\n",
            "French as a Second Language Part 1: https://cpl.oise.utoronto.ca/course/french-as-a-second-language-part-1/\n",
            "French as a Second Language Part 2: https://cpl.oise.utoronto.ca/course/french-as-a-second-language-part-2/\n",
            "Geography - Senior: https://cpl.oise.utoronto.ca/course/geography-senior/\n",
            "Guidance and Career Education Part 1: https://cpl.oise.utoronto.ca/course/guidance-and-career-education-part-1/\n",
            "Guidance and Career Education Part 2: https://cpl.oise.utoronto.ca/course/guidance-and-career-education-part-2/\n",
            "Guidance and Career Education Specialist: https://cpl.oise.utoronto.ca/course/guidance-and-career-education-specialist/\n",
            "Health and Physical Education - Honour Specialist: https://cpl.oise.utoronto.ca/course/health-and-physical-education-honour-specialist/\n",
            "Health and Physical Education (Intermediate &amp; Senior) Specialist: https://cpl.oise.utoronto.ca/course/health-and-physical-education-intermediate-senior-specialist/\n",
            "Health and Physical Education - Intermediate: https://cpl.oise.utoronto.ca/course/health-and-physical-education-intermediate/\n",
            "Health and Physical Education - Senior: https://cpl.oise.utoronto.ca/course/health-and-physical-education-senior/\n",
            "History - Intermediate: https://cpl.oise.utoronto.ca/course/history-intermediate/\n",
            "History - Senior: https://cpl.oise.utoronto.ca/course/history-senior/\n",
            "Junior Basic - Focus on Administration: https://cpl.oise.utoronto.ca/course/junior-basic-focus-on-administration/\n",
            "Junior Basic - Teaching the Junior Child Focus: https://cpl.oise.utoronto.ca/course/junior-basic-teaching-the-junior-child-focus/\n",
            "Kindergarten Part 1: https://cpl.oise.utoronto.ca/course/kindergarten-part-1/\n",
            "Kindergarten Part 2: https://cpl.oise.utoronto.ca/course/kindergarten-part-2/\n",
            "Law - Senior: https://cpl.oise.utoronto.ca/course/law-senior/\n",
            "Mathematics - Intermediate: https://cpl.oise.utoronto.ca/course/mathematics-intermediate/\n",
            "Mathematics (Primary &amp; Junior) Part 1: https://cpl.oise.utoronto.ca/course/mathematics-primary-junior-part-1/\n",
            "Mathematics (Primary &amp; Junior) Part 2: https://cpl.oise.utoronto.ca/course/mathematics-primary-junior-part-2/\n",
            "Mathematics (Primary &amp; Junior) Specialist: https://cpl.oise.utoronto.ca/course/mathematics-primary-junior-specialist/\n",
            "Mathematics - Senior: https://cpl.oise.utoronto.ca/course/mathematics-senior/\n",
            "Orientation to Teaching in Ontario: https://cpl.oise.utoronto.ca/course/orientation-to-teaching-in-ontario/\n",
            "Primary Basic: https://cpl.oise.utoronto.ca/course/primary-basic/\n",
            "Reading Part 1: https://cpl.oise.utoronto.ca/course/reading-part-1/\n",
            "Reading Part 2: https://cpl.oise.utoronto.ca/course/reading-part-2/\n",
            "Reading Specialist: https://cpl.oise.utoronto.ca/course/reading-specialist/\n",
            "Science Biology - Senior: https://cpl.oise.utoronto.ca/course/science-biology-senior/\n",
            "Science Chemistry - Senior: https://cpl.oise.utoronto.ca/course/science-chemistry-senior/\n",
            "Science Physics - Senior: https://cpl.oise.utoronto.ca/course/science-physics-senior/\n",
            "Social Sciences General - Senior: https://cpl.oise.utoronto.ca/course/social-sciences-general-senior/\n",
            "Special Education Part 1 (Elementary Focus): https://cpl.oise.utoronto.ca/course/special-education-part-1-elementary-focus/\n",
            "Special Education Part 1 (Secondary Focus): https://cpl.oise.utoronto.ca/course/special-education-part-1-secondary-focus/\n",
            "Special Education Part 2: https://cpl.oise.utoronto.ca/course/special-education-part-2/\n",
            "Special Education Specialist: https://cpl.oise.utoronto.ca/course/special-education-specialist/\n",
            "Student Assessment and Evaluation: https://cpl.oise.utoronto.ca/course/student-assessment-and-evaluation/\n",
            "Teacher Librarian Part 1: https://cpl.oise.utoronto.ca/course/teacher-librarian-part-1/\n",
            "Teacher Librarian Part 2: https://cpl.oise.utoronto.ca/course/teacher-librarian-part-2/\n",
            "Teaching English Language Learners Part 1 (Elementary Focus): https://cpl.oise.utoronto.ca/course/teaching-english-language-learners-part-1-elementary-focus/\n",
            "Teaching English Language Learners Part 1 (Secondary Focus): https://cpl.oise.utoronto.ca/course/teaching-english-language-learners-part-1-secondary-focus/\n",
            "Teaching English Language Learners Part 2: https://cpl.oise.utoronto.ca/course/teaching-english-language-learners-part-2/\n",
            "Teaching English Language Learners Specialist: https://cpl.oise.utoronto.ca/course/teaching-english-language-learners-specialist/\n",
            "Visual Arts Part 1: https://cpl.oise.utoronto.ca/course/visual-arts-part-1/\n",
            "Visual Arts Part 2: https://cpl.oise.utoronto.ca/course/visual-arts-part-2/\n"
          ]
        }
      ]
    },
    {
      "cell_type": "code",
      "metadata": {
        "id": "C0yCppW-K5zR",
        "colab": {
          "base_uri": "https://localhost:8080/"
        },
        "outputId": "5292fd54-0a92-4f5b-853b-ae6c17549019"
      },
      "source": [
        "# create html file with desired course listings\n",
        "file = './courses.html'\n",
        "with open(file, 'w') as f:\n",
        "  s = f'<HTML>\\n<HEAD>\\n\\t<TITLE>{term}</TITLE>\\n</HEAD>\\n<BODY>\\n'\n",
        "  f.write(s)\n",
        "  for k, v in term_courses.items():\n",
        "    f.write(f'\\t<a href=\"{v}\">{k}</a><br>\\n')\n",
        "  s = '</BODY>\\n<HTML>'\n",
        "  f.write(s)\n",
        "f.close()\n",
        "print(f'{file} created.')"
      ],
      "execution_count": 22,
      "outputs": [
        {
          "output_type": "stream",
          "name": "stdout",
          "text": [
            "./courses.html created.\n"
          ]
        }
      ]
    }
  ]
}