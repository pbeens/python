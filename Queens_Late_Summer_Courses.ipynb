{
  "nbformat": 4,
  "nbformat_minor": 0,
  "metadata": {
    "colab": {
      "name": "Queens Late Summer Courses.ipynb",
      "provenance": [],
      "authorship_tag": "ABX9TyMJ/RHeYhUbBRogA3i/xe/X",
      "include_colab_link": true
    },
    "kernelspec": {
      "name": "python3",
      "display_name": "Python 3"
    },
    "language_info": {
      "name": "python"
    }
  },
  "cells": [
    {
      "cell_type": "markdown",
      "metadata": {
        "id": "view-in-github",
        "colab_type": "text"
      },
      "source": [
        "<a href=\"https://colab.research.google.com/github/pbeens/python/blob/master/Queens_Late_Summer_Courses.ipynb\" target=\"_parent\"><img src=\"https://colab.research.google.com/assets/colab-badge.svg\" alt=\"Open In Colab\"/></a>"
      ]
    },
    {
      "cell_type": "code",
      "metadata": {
        "id": "4JkB0tWvKnBj"
      },
      "source": [
        "from bs4 import BeautifulSoup\n",
        "import urllib.request"
      ],
      "execution_count": 1,
      "outputs": []
    },
    {
      "cell_type": "code",
      "metadata": {
        "id": "xKfZl25QKssU"
      },
      "source": [
        "url = 'https://coursesforteachers.ca'\n",
        "courses = []"
      ],
      "execution_count": 2,
      "outputs": []
    },
    {
      "cell_type": "code",
      "metadata": {
        "colab": {
          "base_uri": "https://localhost:8080/"
        },
        "id": "dKAAERSSKtNv",
        "outputId": "1629f6f7-2d2d-4d0a-ed25-b4d7bd82ade5"
      },
      "source": [
        "# grab the URL page\n",
        "print('Grabbing the main web page...')\n",
        "html_page = urllib.request.urlopen(url + '/courses')\n",
        "soup = BeautifulSoup(html_page, \"html.parser\")"
      ],
      "execution_count": 3,
      "outputs": [
        {
          "output_type": "stream",
          "text": [
            "Grabbing the main web page...\n"
          ],
          "name": "stdout"
        }
      ]
    },
    {
      "cell_type": "code",
      "metadata": {
        "colab": {
          "base_uri": "https://localhost:8080/"
        },
        "id": "fmKFBeP2Kvra",
        "outputId": "b004e840-63fd-4a67-b1d0-88541e2c5816"
      },
      "source": [
        "# find all the links with CONT in the soup page\n",
        "print('Finding the links...')\n",
        "for link in soup.findAll('a'):\n",
        "    s = str(link.get('href'))\n",
        "    if s.count('CONT') > 0:\n",
        "        courses.append(s)"
      ],
      "execution_count": 4,
      "outputs": [
        {
          "output_type": "stream",
          "text": [
            "Finding the links...\n"
          ],
          "name": "stdout"
        }
      ]
    },
    {
      "cell_type": "code",
      "metadata": {
        "colab": {
          "base_uri": "https://localhost:8080/"
        },
        "id": "Ym13-ytiK0PZ",
        "outputId": "0713bf4a-4b99-441e-abc8-e3d6363f396f"
      },
      "source": [
        "#\n",
        "late_summer_courses = {}\n",
        "for course in courses:\n",
        "    course_with_path = url + course\n",
        "    print(f'Processing {course_with_path}...')\n",
        "    html_page = urllib.request.urlopen(course_with_path)\n",
        "    soup = BeautifulSoup(html_page, \"html.parser\")\n",
        "\n",
        "    if len(soup.body.findAll(text='Late Summer 2021')) > 1:\n",
        "        course_name = soup.title.string.split('@')[0][8:].strip()\n",
        "        late_summer_courses[course_name] = course_with_path\n",
        "        # print(course_name, course_with_path)"
      ],
      "execution_count": 5,
      "outputs": [
        {
          "output_type": "stream",
          "text": [
            "Processing https://coursesforteachers.ca/courses/CONT564...\n",
            "Processing https://coursesforteachers.ca/courses/CONT563...\n",
            "Processing https://coursesforteachers.ca/courses/CONT860...\n",
            "Processing https://coursesforteachers.ca/courses/CONT806...\n",
            "Processing https://coursesforteachers.ca/courses/CONT404...\n",
            "Processing https://coursesforteachers.ca/courses/CONT403...\n",
            "Processing https://coursesforteachers.ca/courses/CONT490...\n",
            "Processing https://coursesforteachers.ca/courses/CONT681...\n",
            "Processing https://coursesforteachers.ca/courses/CONT682...\n",
            "Processing https://coursesforteachers.ca/courses/CONT683...\n",
            "Processing https://coursesforteachers.ca/courses/CONT003...\n",
            "Processing https://coursesforteachers.ca/courses/CONT562...\n",
            "Processing https://coursesforteachers.ca/courses/CONT571...\n",
            "Processing https://coursesforteachers.ca/courses/CONT572...\n",
            "Processing https://coursesforteachers.ca/courses/CONT524...\n",
            "Processing https://coursesforteachers.ca/courses/CONT525...\n",
            "Processing https://coursesforteachers.ca/courses/CONT526...\n",
            "Processing https://coursesforteachers.ca/courses/CONT536...\n",
            "Processing https://coursesforteachers.ca/courses/CONT537...\n",
            "Processing https://coursesforteachers.ca/courses/CONT538...\n",
            "Processing https://coursesforteachers.ca/courses/CONT492...\n",
            "Processing https://coursesforteachers.ca/courses/CONT611...\n",
            "Processing https://coursesforteachers.ca/courses/CONT612...\n",
            "Processing https://coursesforteachers.ca/courses/CONT613...\n",
            "Processing https://coursesforteachers.ca/courses/CONT510...\n",
            "Processing https://coursesforteachers.ca/courses/CONT511...\n",
            "Processing https://coursesforteachers.ca/courses/CONT512...\n",
            "Processing https://coursesforteachers.ca/courses/CONT586...\n",
            "Processing https://coursesforteachers.ca/courses/CONT640...\n",
            "Processing https://coursesforteachers.ca/courses/CONT587...\n",
            "Processing https://coursesforteachers.ca/courses/CONT588...\n",
            "Processing https://coursesforteachers.ca/courses/CONT590...\n",
            "Processing https://coursesforteachers.ca/courses/CONT591...\n",
            "Processing https://coursesforteachers.ca/courses/CONT592...\n",
            "Processing https://coursesforteachers.ca/courses/CONT596...\n",
            "Processing https://coursesforteachers.ca/courses/CONT593...\n",
            "Processing https://coursesforteachers.ca/courses/CONT594...\n",
            "Processing https://coursesforteachers.ca/courses/CONT582...\n",
            "Processing https://coursesforteachers.ca/courses/CONT595...\n",
            "Processing https://coursesforteachers.ca/courses/CONT602...\n",
            "Processing https://coursesforteachers.ca/courses/CONT636...\n",
            "Processing https://coursesforteachers.ca/courses/CONT598...\n",
            "Processing https://coursesforteachers.ca/courses/CONT599...\n",
            "Processing https://coursesforteachers.ca/courses/CONT004...\n",
            "Processing https://coursesforteachers.ca/courses/CONT671...\n",
            "Processing https://coursesforteachers.ca/courses/CONT672...\n",
            "Processing https://coursesforteachers.ca/courses/CONT673...\n",
            "Processing https://coursesforteachers.ca/courses/CONT701...\n",
            "Processing https://coursesforteachers.ca/courses/CONT702...\n",
            "Processing https://coursesforteachers.ca/courses/CONT703...\n",
            "Processing https://coursesforteachers.ca/courses/CONT652...\n",
            "Processing https://coursesforteachers.ca/courses/CONT770...\n",
            "Processing https://coursesforteachers.ca/courses/CONT687...\n",
            "Processing https://coursesforteachers.ca/courses/CONT638...\n",
            "Processing https://coursesforteachers.ca/courses/CONT769...\n",
            "Processing https://coursesforteachers.ca/courses/CONT795...\n",
            "Processing https://coursesforteachers.ca/courses/CONT606...\n",
            "Processing https://coursesforteachers.ca/courses/CONT789...\n",
            "Processing https://coursesforteachers.ca/courses/CONT573...\n",
            "Processing https://coursesforteachers.ca/courses/CONT609...\n",
            "Processing https://coursesforteachers.ca/courses/CONT801...\n",
            "Processing https://coursesforteachers.ca/courses/CONT802...\n",
            "Processing https://coursesforteachers.ca/courses/CONT803...\n",
            "Processing https://coursesforteachers.ca/courses/CONT443...\n",
            "Processing https://coursesforteachers.ca/courses/CONT542...\n",
            "Processing https://coursesforteachers.ca/courses/CONT543...\n",
            "Processing https://coursesforteachers.ca/courses/CONT544...\n",
            "Processing https://coursesforteachers.ca/courses/CONT814...\n",
            "Processing https://coursesforteachers.ca/courses/CONT808...\n",
            "Processing https://coursesforteachers.ca/courses/CONT755...\n",
            "Processing https://coursesforteachers.ca/courses/CONT756...\n",
            "Processing https://coursesforteachers.ca/courses/CONT533...\n",
            "Processing https://coursesforteachers.ca/courses/CONT534...\n",
            "Processing https://coursesforteachers.ca/courses/CONT535...\n",
            "Processing https://coursesforteachers.ca/courses/CONT624...\n",
            "Processing https://coursesforteachers.ca/courses/CONT625...\n",
            "Processing https://coursesforteachers.ca/courses/CONT626...\n",
            "Processing https://coursesforteachers.ca/courses/CONT805...\n",
            "Processing https://coursesforteachers.ca/courses/CONT773...\n",
            "Processing https://coursesforteachers.ca/courses/CONT605...\n",
            "Processing https://coursesforteachers.ca/courses/CONT771...\n",
            "Processing https://coursesforteachers.ca/courses/CONT766...\n",
            "Processing https://coursesforteachers.ca/courses/CONT772...\n",
            "Processing https://coursesforteachers.ca/courses/CONT794...\n",
            "Processing https://coursesforteachers.ca/courses/CONT637...\n",
            "Processing https://coursesforteachers.ca/courses/CONT574...\n",
            "Processing https://coursesforteachers.ca/courses/CONT608...\n",
            "Processing https://coursesforteachers.ca/courses/CONT610...\n",
            "Processing https://coursesforteachers.ca/courses/CONT635...\n",
            "Processing https://coursesforteachers.ca/courses/CONT614...\n",
            "Processing https://coursesforteachers.ca/courses/CONT504...\n",
            "Processing https://coursesforteachers.ca/courses/CONT505...\n",
            "Processing https://coursesforteachers.ca/courses/CONT506...\n",
            "Processing https://coursesforteachers.ca/courses/CONT811...\n",
            "Processing https://coursesforteachers.ca/courses/CONT530...\n",
            "Processing https://coursesforteachers.ca/courses/CONT531...\n",
            "Processing https://coursesforteachers.ca/courses/CONT532...\n",
            "Processing https://coursesforteachers.ca/courses/CONT797...\n",
            "Processing https://coursesforteachers.ca/courses/CONT798...\n",
            "Processing https://coursesforteachers.ca/courses/CONT799...\n",
            "Processing https://coursesforteachers.ca/courses/CONT824...\n",
            "Processing https://coursesforteachers.ca/courses/CONT539...\n",
            "Processing https://coursesforteachers.ca/courses/CONT540...\n",
            "Processing https://coursesforteachers.ca/courses/CONT541...\n",
            "Processing https://coursesforteachers.ca/courses/CONT809...\n",
            "Processing https://coursesforteachers.ca/courses/CONT807...\n",
            "Processing https://coursesforteachers.ca/courses/CONT810...\n",
            "Processing https://coursesforteachers.ca/courses/CONT812...\n",
            "Processing https://coursesforteachers.ca/courses/CONT816...\n",
            "Processing https://coursesforteachers.ca/courses/CONT813...\n",
            "Processing https://coursesforteachers.ca/courses/CONT815...\n",
            "Processing https://coursesforteachers.ca/courses/CONT002...\n",
            "Processing https://coursesforteachers.ca/courses/CONT488...\n",
            "Processing https://coursesforteachers.ca/courses/CONT487...\n",
            "Processing https://coursesforteachers.ca/courses/CONT820...\n",
            "Processing https://coursesforteachers.ca/courses/CONT926...\n",
            "Processing https://coursesforteachers.ca/courses/CONT956...\n",
            "Processing https://coursesforteachers.ca/courses/CONT956...\n",
            "Processing https://coursesforteachers.ca/courses/CONT945...\n",
            "Processing https://coursesforteachers.ca/courses/CONT946...\n",
            "Processing https://coursesforteachers.ca/courses/CONT003...\n",
            "Processing https://coursesforteachers.ca/courses/CONT939...\n",
            "Processing https://coursesforteachers.ca/courses/CONT940...\n",
            "Processing https://coursesforteachers.ca/courses/CONT941...\n",
            "Processing https://coursesforteachers.ca/courses/CONT955...\n",
            "Processing https://coursesforteachers.ca/courses/CONT955...\n",
            "Processing https://coursesforteachers.ca/courses/CONT004...\n",
            "Processing https://coursesforteachers.ca/courses/CONT921...\n",
            "Processing https://coursesforteachers.ca/courses/CONT922...\n",
            "Processing https://coursesforteachers.ca/courses/CONT923...\n",
            "Processing https://coursesforteachers.ca/courses/CONT962...\n",
            "Processing https://coursesforteachers.ca/courses/CONT932...\n",
            "Processing https://coursesforteachers.ca/courses/CONT911...\n",
            "Processing https://coursesforteachers.ca/courses/CONT934...\n",
            "Processing https://coursesforteachers.ca/courses/CONT925...\n",
            "Processing https://coursesforteachers.ca/courses/CONT994...\n",
            "Processing https://coursesforteachers.ca/courses/CONT904...\n",
            "Processing https://coursesforteachers.ca/courses/CONT905...\n",
            "Processing https://coursesforteachers.ca/courses/CONT906...\n",
            "Processing https://coursesforteachers.ca/courses/CONT957...\n",
            "Processing https://coursesforteachers.ca/courses/CONT957...\n",
            "Processing https://coursesforteachers.ca/courses/CONT914...\n",
            "Processing https://coursesforteachers.ca/courses/CONT997...\n",
            "Processing https://coursesforteachers.ca/courses/CONT998...\n",
            "Processing https://coursesforteachers.ca/courses/CONT999...\n",
            "Processing https://coursesforteachers.ca/courses/CONT954...\n",
            "Processing https://coursesforteachers.ca/courses/CONT952...\n",
            "Processing https://coursesforteachers.ca/courses/CONT960...\n",
            "Processing https://coursesforteachers.ca/courses/CONT961...\n",
            "Processing https://coursesforteachers.ca/courses/CONT930...\n",
            "Processing https://coursesforteachers.ca/courses/CONT931...\n",
            "Processing https://coursesforteachers.ca/courses/CONT953...\n",
            "Processing https://coursesforteachers.ca/courses/CONT951...\n",
            "Processing https://coursesforteachers.ca/courses/CONT912...\n",
            "Processing https://coursesforteachers.ca/courses/CONT910...\n",
            "Processing https://coursesforteachers.ca/courses/CONT995...\n",
            "Processing https://coursesforteachers.ca/courses/CONT942...\n",
            "Processing https://coursesforteachers.ca/courses/CONT002...\n",
            "Processing https://coursesforteachers.ca/courses/CONT996...\n",
            "Processing https://coursesforteachers.ca/courses/CONT958...\n",
            "Processing https://coursesforteachers.ca/courses/CONT958...\n",
            "Processing https://coursesforteachers.ca/courses/CONT933...\n",
            "Processing https://coursesforteachers.ca/courses/CONT935...\n",
            "Processing https://coursesforteachers.ca/courses/CONT345...\n",
            "Processing https://coursesforteachers.ca/courses/CONT346...\n",
            "Processing https://coursesforteachers.ca/courses/CONT003...\n",
            "Processing https://coursesforteachers.ca/courses/CONT004...\n",
            "Processing https://coursesforteachers.ca/courses/CONT351...\n",
            "Processing https://coursesforteachers.ca/courses/CONT350...\n",
            "Processing https://coursesforteachers.ca/courses/CONT002...\n",
            "Processing https://coursesforteachers.ca/courses/CONT003...\n",
            "Processing https://coursesforteachers.ca/courses/CONT004...\n",
            "Processing https://coursesforteachers.ca/courses/CONT832...\n",
            "Processing https://coursesforteachers.ca/courses/CONT833...\n",
            "Processing https://coursesforteachers.ca/courses/CONT831...\n",
            "Processing https://coursesforteachers.ca/courses/CONT837...\n",
            "Processing https://coursesforteachers.ca/courses/CONT834...\n",
            "Processing https://coursesforteachers.ca/courses/CONT835...\n",
            "Processing https://coursesforteachers.ca/courses/CONT836...\n",
            "Processing https://coursesforteachers.ca/courses/CONT002...\n",
            "Processing https://coursesforteachers.ca/courses/CONT003...\n",
            "Processing https://coursesforteachers.ca/courses/CONT004...\n",
            "Processing https://coursesforteachers.ca/courses/CONT861...\n",
            "Processing https://coursesforteachers.ca/courses/CONT862...\n",
            "Processing https://coursesforteachers.ca/courses/CONT863...\n",
            "Processing https://coursesforteachers.ca/courses/CONT864...\n",
            "Processing https://coursesforteachers.ca/courses/CONT865...\n",
            "Processing https://coursesforteachers.ca/courses/CONT866...\n",
            "Processing https://coursesforteachers.ca/courses/CONT002...\n"
          ],
          "name": "stdout"
        }
      ]
    },
    {
      "cell_type": "code",
      "metadata": {
        "id": "C0yCppW-K5zR"
      },
      "source": [
        "# create html file\n",
        "file = './courses.html'\n",
        "with open(file, 'w') as f:\n",
        "    s = '''<HTML>\n",
        "<HEAD>\n",
        "<TITLE>Course Listing</TITLE>\n",
        "</HEAD>\n",
        "<BODY>'''\n",
        "    f.write(s)\n",
        "    for k, v in late_summer_courses.items():\n",
        "      f.write(f'<a href=\"{v}\">{k}</a><br>')\n",
        "    s = '''</BODY>\n",
        "<HTML>'''\n",
        "    f.write(s)"
      ],
      "execution_count": 11,
      "outputs": []
    }
  ]
}